{
  "nbformat": 4,
  "nbformat_minor": 0,
  "metadata": {
    "colab": {
      "name": "eCommerce Fraud Detection by Jianing.ipynb",
      "provenance": [],
      "collapsed_sections": []
    },
    "kernelspec": {
      "name": "python3",
      "display_name": "Python 3"
    }
  },
  "cells": [
    {
      "cell_type": "markdown",
      "metadata": {
        "id": "_EbKIUQZSc30",
        "colab_type": "text"
      },
      "source": [
        "Summary of Fraud Detection Code Lab\n",
        "- Data is highly imbalanced\n",
        "- Features of interval_after_signup and time related raw and aggregates are highly predictive of fraud\n",
        "- Made actionable operation recommendations/proposal for business"
      ]
    },
    {
      "cell_type": "markdown",
      "metadata": {
        "id": "zfjXN4EwS3eo",
        "colab_type": "text"
      },
      "source": [
        "# Load data and package"
      ]
    },
    {
      "cell_type": "code",
      "metadata": {
        "id": "iSjSPRXiRQuI",
        "colab_type": "code",
        "colab": {}
      },
      "source": [
        "import pandas as pd\n",
        "import numpy as np\n",
        "import time\n",
        "import matplotlib.pyplot as plt\n",
        "import pandas as pd\n",
        "from sklearn import metrics\n",
        "from sklearn.metrics import roc_curve\n",
        "from sklearn.model_selection import train_test_split\n",
        "from sklearn.linear_model import LogisticRegression\n",
        "from sklearn.ensemble import RandomForestClassifier\n",
        "from imblearn.over_sampling import SMOTE\n",
        "from sklearn import preprocessing\n",
        "from sklearn.preprocessing import MinMaxScaler\n",
        "from sklearn.metrics import f1_score, roc_auc_score, roc_curve, precision_recall_curve, auc, make_scorer, recall_score, accuracy_score, precision_score, confusion_matrix\n",
        "from sklearn.model_selection import GridSearchCV"
      ],
      "execution_count": 0,
      "outputs": []
    },
    {
      "cell_type": "code",
      "metadata": {
        "id": "8b9fdSK-oekf",
        "colab_type": "code",
        "colab": {}
      },
      "source": [
        "#save data to my drive: \"/content/drive/My Drive/fraudData\"\n",
        "from google.colab import drive\n",
        "\n",
        "# This will prompt for authorization.\n",
        "drive.mount('/content/drive')\n",
        "#check if files are ready to use\n",
        "!ls \"/content/drive/My Drive/fraudData\""
      ],
      "execution_count": 0,
      "outputs": []
    },
    {
      "cell_type": "code",
      "metadata": {
        "id": "sktLRqxeomHk",
        "colab_type": "code",
        "outputId": "0f4c7782-5060-4ca6-f0fb-931a35e27f04",
        "colab": {
          "base_uri": "https://localhost:8080/",
          "height": 309
        }
      },
      "source": [
        "ipToCountry = pd.read_csv('drive/My Drive/fraudData/IpAddress_to_Country.csv')\n",
        "fraud_data = pd.read_csv('drive/My Drive/fraudData/imbalancedFraudDF.csv')\n",
        "fraud_data.head()"
      ],
      "execution_count": 0,
      "outputs": [
        {
          "output_type": "execute_result",
          "data": {
            "text/html": [
              "<div>\n",
              "<style scoped>\n",
              "    .dataframe tbody tr th:only-of-type {\n",
              "        vertical-align: middle;\n",
              "    }\n",
              "\n",
              "    .dataframe tbody tr th {\n",
              "        vertical-align: top;\n",
              "    }\n",
              "\n",
              "    .dataframe thead th {\n",
              "        text-align: right;\n",
              "    }\n",
              "</style>\n",
              "<table border=\"1\" class=\"dataframe\">\n",
              "  <thead>\n",
              "    <tr style=\"text-align: right;\">\n",
              "      <th></th>\n",
              "      <th>user_id</th>\n",
              "      <th>signup_time</th>\n",
              "      <th>purchase_time</th>\n",
              "      <th>purchase_value</th>\n",
              "      <th>device_id</th>\n",
              "      <th>source</th>\n",
              "      <th>browser</th>\n",
              "      <th>sex</th>\n",
              "      <th>age</th>\n",
              "      <th>ip_address</th>\n",
              "      <th>class</th>\n",
              "    </tr>\n",
              "  </thead>\n",
              "  <tbody>\n",
              "    <tr>\n",
              "      <th>0</th>\n",
              "      <td>22058</td>\n",
              "      <td>2015-02-24 22:55:49</td>\n",
              "      <td>2015-04-18 02:47:11</td>\n",
              "      <td>34</td>\n",
              "      <td>QVPSPJUOCKZAR</td>\n",
              "      <td>SEO</td>\n",
              "      <td>Chrome</td>\n",
              "      <td>M</td>\n",
              "      <td>39</td>\n",
              "      <td>7.327584e+08</td>\n",
              "      <td>0</td>\n",
              "    </tr>\n",
              "    <tr>\n",
              "      <th>1</th>\n",
              "      <td>333320</td>\n",
              "      <td>2015-06-07 20:39:50</td>\n",
              "      <td>2015-06-08 01:38:54</td>\n",
              "      <td>16</td>\n",
              "      <td>EOGFQPIZPYXFZ</td>\n",
              "      <td>Ads</td>\n",
              "      <td>Chrome</td>\n",
              "      <td>F</td>\n",
              "      <td>53</td>\n",
              "      <td>3.503114e+08</td>\n",
              "      <td>0</td>\n",
              "    </tr>\n",
              "    <tr>\n",
              "      <th>2</th>\n",
              "      <td>150084</td>\n",
              "      <td>2015-04-28 21:13:25</td>\n",
              "      <td>2015-05-04 13:54:50</td>\n",
              "      <td>44</td>\n",
              "      <td>ATGTXKYKUDUQN</td>\n",
              "      <td>SEO</td>\n",
              "      <td>Safari</td>\n",
              "      <td>M</td>\n",
              "      <td>41</td>\n",
              "      <td>3.840542e+09</td>\n",
              "      <td>0</td>\n",
              "    </tr>\n",
              "    <tr>\n",
              "      <th>3</th>\n",
              "      <td>221365</td>\n",
              "      <td>2015-07-21 07:09:52</td>\n",
              "      <td>2015-09-09 18:40:53</td>\n",
              "      <td>39</td>\n",
              "      <td>NAUITBZFJKHWW</td>\n",
              "      <td>Ads</td>\n",
              "      <td>Safari</td>\n",
              "      <td>M</td>\n",
              "      <td>45</td>\n",
              "      <td>4.155831e+08</td>\n",
              "      <td>0</td>\n",
              "    </tr>\n",
              "    <tr>\n",
              "      <th>4</th>\n",
              "      <td>159135</td>\n",
              "      <td>2015-05-21 06:03:03</td>\n",
              "      <td>2015-07-09 08:05:14</td>\n",
              "      <td>42</td>\n",
              "      <td>ALEYXFXINSXLZ</td>\n",
              "      <td>Ads</td>\n",
              "      <td>Chrome</td>\n",
              "      <td>M</td>\n",
              "      <td>18</td>\n",
              "      <td>2.809315e+09</td>\n",
              "      <td>0</td>\n",
              "    </tr>\n",
              "  </tbody>\n",
              "</table>\n",
              "</div>"
            ],
            "text/plain": [
              "   user_id          signup_time        purchase_time  ...  age    ip_address class\n",
              "0    22058  2015-02-24 22:55:49  2015-04-18 02:47:11  ...   39  7.327584e+08     0\n",
              "1   333320  2015-06-07 20:39:50  2015-06-08 01:38:54  ...   53  3.503114e+08     0\n",
              "2   150084  2015-04-28 21:13:25  2015-05-04 13:54:50  ...   41  3.840542e+09     0\n",
              "3   221365  2015-07-21 07:09:52  2015-09-09 18:40:53  ...   45  4.155831e+08     0\n",
              "4   159135  2015-05-21 06:03:03  2015-07-09 08:05:14  ...   18  2.809315e+09     0\n",
              "\n",
              "[5 rows x 11 columns]"
            ]
          },
          "metadata": {
            "tags": []
          },
          "execution_count": 172
        }
      ]
    },
    {
      "cell_type": "markdown",
      "metadata": {
        "id": "CKgZ68_7btBk",
        "colab_type": "text"
      },
      "source": [
        "# Exploratory data analyses (EDA)"
      ]
    },
    {
      "cell_type": "code",
      "metadata": {
        "id": "quhyL2WSgrX7",
        "colab_type": "code",
        "outputId": "8073b9fc-1737-470a-efee-4f962b40a8a9",
        "colab": {
          "base_uri": "https://localhost:8080/",
          "height": 70
        }
      },
      "source": [
        "#Distribution of the label column\n",
        "fraud_data['class'].value_counts()"
      ],
      "execution_count": 0,
      "outputs": [
        {
          "output_type": "execute_result",
          "data": {
            "text/plain": [
              "0    136961\n",
              "1      1415\n",
              "Name: class, dtype: int64"
            ]
          },
          "metadata": {
            "tags": []
          },
          "execution_count": 5
        }
      ]
    },
    {
      "cell_type": "code",
      "metadata": {
        "id": "_KGwILife8bz",
        "colab_type": "code",
        "outputId": "7a41bbf3-23e4-4472-8498-feb0a251cf6b",
        "colab": {
          "base_uri": "https://localhost:8080/",
          "height": 224
        }
      },
      "source": [
        "# You can install pandas_profiling using the pip package manager by running:\n",
        "# pip install pandas-profiling\n",
        "# will give warnings on missing, correlation, constant value(0 variance), etc, see http://nbviewer.jupyter.org/github/JosPolfliet/pandas-profiling/blob/master/examples/meteorites.ipynb\n",
        "\n",
        "#1 \n",
        "#Inline summary report without saving report as object\n",
        "import pandas_profiling\n",
        "pandas_profiling.ProfileReport(fraud_data)\n",
        "\n",
        "#2\n",
        "#simpler version without installing pandas_profiling\n",
        "fraud_data.describe().transpose()  #only for numeric data"
      ],
      "execution_count": 0,
      "outputs": [
        {
          "output_type": "execute_result",
          "data": {
            "text/html": [
              "<div>\n",
              "<style scoped>\n",
              "    .dataframe tbody tr th:only-of-type {\n",
              "        vertical-align: middle;\n",
              "    }\n",
              "\n",
              "    .dataframe tbody tr th {\n",
              "        vertical-align: top;\n",
              "    }\n",
              "\n",
              "    .dataframe thead th {\n",
              "        text-align: right;\n",
              "    }\n",
              "</style>\n",
              "<table border=\"1\" class=\"dataframe\">\n",
              "  <thead>\n",
              "    <tr style=\"text-align: right;\">\n",
              "      <th></th>\n",
              "      <th>count</th>\n",
              "      <th>mean</th>\n",
              "      <th>std</th>\n",
              "      <th>min</th>\n",
              "      <th>25%</th>\n",
              "      <th>50%</th>\n",
              "      <th>75%</th>\n",
              "      <th>max</th>\n",
              "    </tr>\n",
              "  </thead>\n",
              "  <tbody>\n",
              "    <tr>\n",
              "      <th>user_id</th>\n",
              "      <td>138376.0</td>\n",
              "      <td>2.001490e+05</td>\n",
              "      <td>1.152268e+05</td>\n",
              "      <td>2.000000</td>\n",
              "      <td>1.008948e+05</td>\n",
              "      <td>2.000005e+05</td>\n",
              "      <td>2.997452e+05</td>\n",
              "      <td>4.000000e+05</td>\n",
              "    </tr>\n",
              "    <tr>\n",
              "      <th>purchase_value</th>\n",
              "      <td>138376.0</td>\n",
              "      <td>3.693899e+01</td>\n",
              "      <td>1.832109e+01</td>\n",
              "      <td>9.000000</td>\n",
              "      <td>2.200000e+01</td>\n",
              "      <td>3.500000e+01</td>\n",
              "      <td>4.900000e+01</td>\n",
              "      <td>1.540000e+02</td>\n",
              "    </tr>\n",
              "    <tr>\n",
              "      <th>age</th>\n",
              "      <td>138376.0</td>\n",
              "      <td>3.312587e+01</td>\n",
              "      <td>8.623645e+00</td>\n",
              "      <td>18.000000</td>\n",
              "      <td>2.700000e+01</td>\n",
              "      <td>3.300000e+01</td>\n",
              "      <td>3.900000e+01</td>\n",
              "      <td>7.600000e+01</td>\n",
              "    </tr>\n",
              "    <tr>\n",
              "      <th>ip_address</th>\n",
              "      <td>138376.0</td>\n",
              "      <td>2.154381e+09</td>\n",
              "      <td>1.250563e+09</td>\n",
              "      <td>52093.496895</td>\n",
              "      <td>1.085079e+09</td>\n",
              "      <td>2.156471e+09</td>\n",
              "      <td>3.249150e+09</td>\n",
              "      <td>4.294850e+09</td>\n",
              "    </tr>\n",
              "    <tr>\n",
              "      <th>class</th>\n",
              "      <td>138376.0</td>\n",
              "      <td>1.022576e-02</td>\n",
              "      <td>1.006045e-01</td>\n",
              "      <td>0.000000</td>\n",
              "      <td>0.000000e+00</td>\n",
              "      <td>0.000000e+00</td>\n",
              "      <td>0.000000e+00</td>\n",
              "      <td>1.000000e+00</td>\n",
              "    </tr>\n",
              "  </tbody>\n",
              "</table>\n",
              "</div>"
            ],
            "text/plain": [
              "                   count          mean  ...           75%           max\n",
              "user_id         138376.0  2.001490e+05  ...  2.997452e+05  4.000000e+05\n",
              "purchase_value  138376.0  3.693899e+01  ...  4.900000e+01  1.540000e+02\n",
              "age             138376.0  3.312587e+01  ...  3.900000e+01  7.600000e+01\n",
              "ip_address      138376.0  2.154381e+09  ...  3.249150e+09  4.294850e+09\n",
              "class           138376.0  1.022576e-02  ...  0.000000e+00  1.000000e+00\n",
              "\n",
              "[5 rows x 8 columns]"
            ]
          },
          "metadata": {
            "tags": []
          },
          "execution_count": 8
        }
      ]
    },
    {
      "cell_type": "code",
      "metadata": {
        "id": "KwG6iF08ikTk",
        "colab_type": "code",
        "outputId": "067ae861-0597-4165-fc50-4031ddd15c8f",
        "colab": {
          "base_uri": "https://localhost:8080/",
          "height": 227
        }
      },
      "source": [
        "# count of NaN in each column\n",
        "fraud_data.isna().sum()\n",
        "#fraud_data.isnull().sum(axis = 0)"
      ],
      "execution_count": 0,
      "outputs": [
        {
          "output_type": "execute_result",
          "data": {
            "text/plain": [
              "user_id           0\n",
              "signup_time       0\n",
              "purchase_time     0\n",
              "purchase_value    0\n",
              "device_id         0\n",
              "source            0\n",
              "browser           0\n",
              "sex               0\n",
              "age               0\n",
              "ip_address        0\n",
              "class             0\n",
              "dtype: int64"
            ]
          },
          "metadata": {
            "tags": []
          },
          "execution_count": 179
        }
      ]
    },
    {
      "cell_type": "code",
      "metadata": {
        "id": "Z6VwsDNc2SJA",
        "colab_type": "code",
        "outputId": "3c5e016f-a279-450a-af61-56b07f9b29e7",
        "colab": {
          "base_uri": "https://localhost:8080/",
          "height": 204
        }
      },
      "source": [
        "ipToCountry.head()"
      ],
      "execution_count": 0,
      "outputs": [
        {
          "output_type": "execute_result",
          "data": {
            "text/html": [
              "<div>\n",
              "<style scoped>\n",
              "    .dataframe tbody tr th:only-of-type {\n",
              "        vertical-align: middle;\n",
              "    }\n",
              "\n",
              "    .dataframe tbody tr th {\n",
              "        vertical-align: top;\n",
              "    }\n",
              "\n",
              "    .dataframe thead th {\n",
              "        text-align: right;\n",
              "    }\n",
              "</style>\n",
              "<table border=\"1\" class=\"dataframe\">\n",
              "  <thead>\n",
              "    <tr style=\"text-align: right;\">\n",
              "      <th></th>\n",
              "      <th>lower_bound_ip_address</th>\n",
              "      <th>upper_bound_ip_address</th>\n",
              "      <th>country</th>\n",
              "    </tr>\n",
              "  </thead>\n",
              "  <tbody>\n",
              "    <tr>\n",
              "      <th>0</th>\n",
              "      <td>16777216.0</td>\n",
              "      <td>16777471</td>\n",
              "      <td>Australia</td>\n",
              "    </tr>\n",
              "    <tr>\n",
              "      <th>1</th>\n",
              "      <td>16777472.0</td>\n",
              "      <td>16777727</td>\n",
              "      <td>China</td>\n",
              "    </tr>\n",
              "    <tr>\n",
              "      <th>2</th>\n",
              "      <td>16777728.0</td>\n",
              "      <td>16778239</td>\n",
              "      <td>China</td>\n",
              "    </tr>\n",
              "    <tr>\n",
              "      <th>3</th>\n",
              "      <td>16778240.0</td>\n",
              "      <td>16779263</td>\n",
              "      <td>Australia</td>\n",
              "    </tr>\n",
              "    <tr>\n",
              "      <th>4</th>\n",
              "      <td>16779264.0</td>\n",
              "      <td>16781311</td>\n",
              "      <td>China</td>\n",
              "    </tr>\n",
              "  </tbody>\n",
              "</table>\n",
              "</div>"
            ],
            "text/plain": [
              "   lower_bound_ip_address  upper_bound_ip_address    country\n",
              "0              16777216.0                16777471  Australia\n",
              "1              16777472.0                16777727      China\n",
              "2              16777728.0                16778239      China\n",
              "3              16778240.0                16779263  Australia\n",
              "4              16779264.0                16781311      China"
            ]
          },
          "metadata": {
            "tags": []
          },
          "execution_count": 180
        }
      ]
    },
    {
      "cell_type": "code",
      "metadata": {
        "id": "-qR-Hpd7iuoF",
        "colab_type": "code",
        "outputId": "8d2f3647-9800-475e-b5a9-ad906ad85e48",
        "colab": {
          "base_uri": "https://localhost:8080/",
          "height": 35
        }
      },
      "source": [
        "def BS(array, target):\n",
        "    #find the last smaller lower_bound_ip_address than ip_address\n",
        "    l = 0\n",
        "    r = len(array)-1\n",
        "    while (l <= r):\n",
        "        mid = (l+r)//2\n",
        "        if array[mid] > target:\n",
        "            r = mid -1\n",
        "        else:\n",
        "            result = mid\n",
        "            l = mid + 1\n",
        "\n",
        "    country = ipToCountry[ipToCountry['lower_bound_ip_address'] == array[result]]['country'].to_numpy()[0]\n",
        "    return country\n",
        "\n",
        "start = time.time()\n",
        "countries = []\n",
        "\n",
        "array = ipToCountry['lower_bound_ip_address'].to_numpy()\n",
        "\n",
        "for i in range(len(fraud_data)):\n",
        "    ip_address = fraud_data.loc[i, 'ip_address']#number\n",
        "   \n",
        "    #use Binary search to optimize mapping ip_address with countries\n",
        "    country = 'NA'\n",
        "    if (ip_address <= ipToCountry.tail(1)['upper_bound_ip_address'].to_numpy()[0] and \n",
        "        ip_address > ipToCountry.head(1)['lower_bound_ip_address'].to_numpy()[0]):\n",
        "        country = BS(array, ip_address)\n",
        "        \n",
        "    countries.append(country)\n",
        "\n",
        "fraud_data['country'] = countries\n",
        "runtime = time.time() - start \n",
        "\n",
        "print(\"Mapping took\", runtime, \"seconds.\")"
      ],
      "execution_count": 0,
      "outputs": [
        {
          "output_type": "stream",
          "text": [
            "Mapping took 167.28551077842712 seconds.\n"
          ],
          "name": "stdout"
        }
      ]
    },
    {
      "cell_type": "code",
      "metadata": {
        "id": "fwx0bab5dU0U",
        "colab_type": "code",
        "outputId": "b8edef7e-49c5-451b-8391-0f65c8ec8205",
        "colab": {
          "base_uri": "https://localhost:8080/",
          "height": 309
        }
      },
      "source": [
        "fraud_data.head()"
      ],
      "execution_count": 0,
      "outputs": [
        {
          "output_type": "execute_result",
          "data": {
            "text/html": [
              "<div>\n",
              "<style scoped>\n",
              "    .dataframe tbody tr th:only-of-type {\n",
              "        vertical-align: middle;\n",
              "    }\n",
              "\n",
              "    .dataframe tbody tr th {\n",
              "        vertical-align: top;\n",
              "    }\n",
              "\n",
              "    .dataframe thead th {\n",
              "        text-align: right;\n",
              "    }\n",
              "</style>\n",
              "<table border=\"1\" class=\"dataframe\">\n",
              "  <thead>\n",
              "    <tr style=\"text-align: right;\">\n",
              "      <th></th>\n",
              "      <th>user_id</th>\n",
              "      <th>signup_time</th>\n",
              "      <th>purchase_time</th>\n",
              "      <th>purchase_value</th>\n",
              "      <th>device_id</th>\n",
              "      <th>source</th>\n",
              "      <th>browser</th>\n",
              "      <th>sex</th>\n",
              "      <th>age</th>\n",
              "      <th>ip_address</th>\n",
              "      <th>class</th>\n",
              "      <th>country</th>\n",
              "    </tr>\n",
              "  </thead>\n",
              "  <tbody>\n",
              "    <tr>\n",
              "      <th>0</th>\n",
              "      <td>22058</td>\n",
              "      <td>2015-02-24 22:55:49</td>\n",
              "      <td>2015-04-18 02:47:11</td>\n",
              "      <td>34</td>\n",
              "      <td>QVPSPJUOCKZAR</td>\n",
              "      <td>SEO</td>\n",
              "      <td>Chrome</td>\n",
              "      <td>M</td>\n",
              "      <td>39</td>\n",
              "      <td>7.327584e+08</td>\n",
              "      <td>0</td>\n",
              "      <td>Japan</td>\n",
              "    </tr>\n",
              "    <tr>\n",
              "      <th>1</th>\n",
              "      <td>333320</td>\n",
              "      <td>2015-06-07 20:39:50</td>\n",
              "      <td>2015-06-08 01:38:54</td>\n",
              "      <td>16</td>\n",
              "      <td>EOGFQPIZPYXFZ</td>\n",
              "      <td>Ads</td>\n",
              "      <td>Chrome</td>\n",
              "      <td>F</td>\n",
              "      <td>53</td>\n",
              "      <td>3.503114e+08</td>\n",
              "      <td>0</td>\n",
              "      <td>United States</td>\n",
              "    </tr>\n",
              "    <tr>\n",
              "      <th>2</th>\n",
              "      <td>150084</td>\n",
              "      <td>2015-04-28 21:13:25</td>\n",
              "      <td>2015-05-04 13:54:50</td>\n",
              "      <td>44</td>\n",
              "      <td>ATGTXKYKUDUQN</td>\n",
              "      <td>SEO</td>\n",
              "      <td>Safari</td>\n",
              "      <td>M</td>\n",
              "      <td>41</td>\n",
              "      <td>3.840542e+09</td>\n",
              "      <td>0</td>\n",
              "      <td>NA</td>\n",
              "    </tr>\n",
              "    <tr>\n",
              "      <th>3</th>\n",
              "      <td>221365</td>\n",
              "      <td>2015-07-21 07:09:52</td>\n",
              "      <td>2015-09-09 18:40:53</td>\n",
              "      <td>39</td>\n",
              "      <td>NAUITBZFJKHWW</td>\n",
              "      <td>Ads</td>\n",
              "      <td>Safari</td>\n",
              "      <td>M</td>\n",
              "      <td>45</td>\n",
              "      <td>4.155831e+08</td>\n",
              "      <td>0</td>\n",
              "      <td>United States</td>\n",
              "    </tr>\n",
              "    <tr>\n",
              "      <th>4</th>\n",
              "      <td>159135</td>\n",
              "      <td>2015-05-21 06:03:03</td>\n",
              "      <td>2015-07-09 08:05:14</td>\n",
              "      <td>42</td>\n",
              "      <td>ALEYXFXINSXLZ</td>\n",
              "      <td>Ads</td>\n",
              "      <td>Chrome</td>\n",
              "      <td>M</td>\n",
              "      <td>18</td>\n",
              "      <td>2.809315e+09</td>\n",
              "      <td>0</td>\n",
              "      <td>Canada</td>\n",
              "    </tr>\n",
              "  </tbody>\n",
              "</table>\n",
              "</div>"
            ],
            "text/plain": [
              "   user_id          signup_time  ... class        country\n",
              "0    22058  2015-02-24 22:55:49  ...     0          Japan\n",
              "1   333320  2015-06-07 20:39:50  ...     0  United States\n",
              "2   150084  2015-04-28 21:13:25  ...     0             NA\n",
              "3   221365  2015-07-21 07:09:52  ...     0  United States\n",
              "4   159135  2015-05-21 06:03:03  ...     0         Canada\n",
              "\n",
              "[5 rows x 12 columns]"
            ]
          },
          "metadata": {
            "tags": []
          },
          "execution_count": 182
        }
      ]
    },
    {
      "cell_type": "markdown",
      "metadata": {
        "id": "56bW53YijpMG",
        "colab_type": "text"
      },
      "source": [
        "Check if column user_id is unique(no dup) for time related aggregates?"
      ]
    },
    {
      "cell_type": "code",
      "metadata": {
        "id": "E5a3x5Qlj1eb",
        "colab_type": "code",
        "outputId": "ac3fb189-f4d2-4598-a938-1a7be4f5bbdf",
        "colab": {
          "base_uri": "https://localhost:8080/",
          "height": 52
        }
      },
      "source": [
        "print(fraud_data.user_id.nunique())#138376\n",
        "print(len(fraud_data.index))#138376\n",
        "#all of the user_id has only the first 1 transaction, no way to do time based aggregates, \n",
        "#e.g. amount/counts in past 1 day for this user"
      ],
      "execution_count": 0,
      "outputs": [
        {
          "output_type": "stream",
          "text": [
            "138376\n",
            "138376\n"
          ],
          "name": "stdout"
        }
      ]
    },
    {
      "cell_type": "markdown",
      "metadata": {
        "id": "hw8ctGyPY7Vd",
        "colab_type": "text"
      },
      "source": [
        "# Feature processing\n",
        "## Time related features: combine or extract new features\n",
        "- interval_after_signup\n",
        "- signup_days_of_year\n",
        "- signup_seconds_of_day\n",
        "- purchase_days_of_year\n",
        "- purchase_seconds_of_day\n"
      ]
    },
    {
      "cell_type": "code",
      "metadata": {
        "id": "XfqVxIEkmeAO",
        "colab_type": "code",
        "colab": {}
      },
      "source": [
        "#time related features: can be done before split, as they has no interaction between other rows, solely based on other columns of the same row\n",
        "fraud_data['interval_after_signup'] = (pd.to_datetime(fraud_data['purchase_time']) - pd.to_datetime(\n",
        "        fraud_data['signup_time'])).dt.total_seconds()\n",
        "\n",
        "fraud_data['signup_days_of_year'] = pd.DatetimeIndex(fraud_data['signup_time']).dayofyear\n",
        "\n",
        "#bed time operation\n",
        "fraud_data['signup_seconds_of_day'] = pd.DatetimeIndex(fraud_data['signup_time']).second + 60 * pd.DatetimeIndex(\n",
        "    fraud_data['signup_time']).minute + 3600 * pd.DatetimeIndex(fraud_data['signup_time']).hour\n",
        "\n",
        "fraud_data['purchase_days_of_year'] = pd.DatetimeIndex(fraud_data['purchase_time']).dayofyear\n",
        "fraud_data['purchase_seconds_of_day'] = pd.DatetimeIndex(fraud_data['purchase_time']).second + 60 * pd.DatetimeIndex(\n",
        "    fraud_data['purchase_time']).minute + 3600 * pd.DatetimeIndex(fraud_data['purchase_time']).hour\n",
        "\n",
        "fraud_data = fraud_data.drop(['user_id','signup_time','purchase_time'], axis=1)"
      ],
      "execution_count": 0,
      "outputs": []
    },
    {
      "cell_type": "code",
      "metadata": {
        "id": "GxeoVxccnT_9",
        "colab_type": "code",
        "outputId": "e0969752-c487-4415-99ef-0b8435898270",
        "colab": {
          "base_uri": "https://localhost:8080/",
          "height": 258
        }
      },
      "source": [
        "fraud_data.head()\n",
        "#note there are NAs in country"
      ],
      "execution_count": 0,
      "outputs": [
        {
          "output_type": "execute_result",
          "data": {
            "text/html": [
              "<div>\n",
              "<style scoped>\n",
              "    .dataframe tbody tr th:only-of-type {\n",
              "        vertical-align: middle;\n",
              "    }\n",
              "\n",
              "    .dataframe tbody tr th {\n",
              "        vertical-align: top;\n",
              "    }\n",
              "\n",
              "    .dataframe thead th {\n",
              "        text-align: right;\n",
              "    }\n",
              "</style>\n",
              "<table border=\"1\" class=\"dataframe\">\n",
              "  <thead>\n",
              "    <tr style=\"text-align: right;\">\n",
              "      <th></th>\n",
              "      <th>purchase_value</th>\n",
              "      <th>device_id</th>\n",
              "      <th>source</th>\n",
              "      <th>browser</th>\n",
              "      <th>sex</th>\n",
              "      <th>age</th>\n",
              "      <th>ip_address</th>\n",
              "      <th>class</th>\n",
              "      <th>country</th>\n",
              "      <th>interval_after_signup</th>\n",
              "      <th>signup_days_of_year</th>\n",
              "      <th>signup_seconds_of_day</th>\n",
              "      <th>purchase_days_of_year</th>\n",
              "      <th>purchase_seconds_of_day</th>\n",
              "    </tr>\n",
              "  </thead>\n",
              "  <tbody>\n",
              "    <tr>\n",
              "      <th>0</th>\n",
              "      <td>34</td>\n",
              "      <td>QVPSPJUOCKZAR</td>\n",
              "      <td>SEO</td>\n",
              "      <td>Chrome</td>\n",
              "      <td>M</td>\n",
              "      <td>39</td>\n",
              "      <td>7.327584e+08</td>\n",
              "      <td>0</td>\n",
              "      <td>Japan</td>\n",
              "      <td>4506682.0</td>\n",
              "      <td>55</td>\n",
              "      <td>82549</td>\n",
              "      <td>108</td>\n",
              "      <td>10031</td>\n",
              "    </tr>\n",
              "    <tr>\n",
              "      <th>1</th>\n",
              "      <td>16</td>\n",
              "      <td>EOGFQPIZPYXFZ</td>\n",
              "      <td>Ads</td>\n",
              "      <td>Chrome</td>\n",
              "      <td>F</td>\n",
              "      <td>53</td>\n",
              "      <td>3.503114e+08</td>\n",
              "      <td>0</td>\n",
              "      <td>United States</td>\n",
              "      <td>17944.0</td>\n",
              "      <td>158</td>\n",
              "      <td>74390</td>\n",
              "      <td>159</td>\n",
              "      <td>5934</td>\n",
              "    </tr>\n",
              "    <tr>\n",
              "      <th>2</th>\n",
              "      <td>44</td>\n",
              "      <td>ATGTXKYKUDUQN</td>\n",
              "      <td>SEO</td>\n",
              "      <td>Safari</td>\n",
              "      <td>M</td>\n",
              "      <td>41</td>\n",
              "      <td>3.840542e+09</td>\n",
              "      <td>0</td>\n",
              "      <td>NA</td>\n",
              "      <td>492085.0</td>\n",
              "      <td>118</td>\n",
              "      <td>76405</td>\n",
              "      <td>124</td>\n",
              "      <td>50090</td>\n",
              "    </tr>\n",
              "    <tr>\n",
              "      <th>3</th>\n",
              "      <td>39</td>\n",
              "      <td>NAUITBZFJKHWW</td>\n",
              "      <td>Ads</td>\n",
              "      <td>Safari</td>\n",
              "      <td>M</td>\n",
              "      <td>45</td>\n",
              "      <td>4.155831e+08</td>\n",
              "      <td>0</td>\n",
              "      <td>United States</td>\n",
              "      <td>4361461.0</td>\n",
              "      <td>202</td>\n",
              "      <td>25792</td>\n",
              "      <td>252</td>\n",
              "      <td>67253</td>\n",
              "    </tr>\n",
              "    <tr>\n",
              "      <th>4</th>\n",
              "      <td>42</td>\n",
              "      <td>ALEYXFXINSXLZ</td>\n",
              "      <td>Ads</td>\n",
              "      <td>Chrome</td>\n",
              "      <td>M</td>\n",
              "      <td>18</td>\n",
              "      <td>2.809315e+09</td>\n",
              "      <td>0</td>\n",
              "      <td>Canada</td>\n",
              "      <td>4240931.0</td>\n",
              "      <td>141</td>\n",
              "      <td>21783</td>\n",
              "      <td>190</td>\n",
              "      <td>29114</td>\n",
              "    </tr>\n",
              "  </tbody>\n",
              "</table>\n",
              "</div>"
            ],
            "text/plain": [
              "   purchase_value  ... purchase_seconds_of_day\n",
              "0              34  ...                   10031\n",
              "1              16  ...                    5934\n",
              "2              44  ...                   50090\n",
              "3              39  ...                   67253\n",
              "4              42  ...                   29114\n",
              "\n",
              "[5 rows x 14 columns]"
            ]
          },
          "metadata": {
            "tags": []
          },
          "execution_count": 185
        }
      ]
    },
    {
      "cell_type": "code",
      "metadata": {
        "id": "vn7GvQhEnWWp",
        "colab_type": "code",
        "outputId": "2194dca7-0013-4ded-d0cf-3d23eed701a2",
        "colab": {
          "base_uri": "https://localhost:8080/",
          "height": 87
        }
      },
      "source": [
        "print(fraud_data.source.value_counts())"
      ],
      "execution_count": 0,
      "outputs": [
        {
          "output_type": "stream",
          "text": [
            "SEO       55766\n",
            "Ads       54913\n",
            "Direct    27697\n",
            "Name: source, dtype: int64\n"
          ],
          "name": "stdout"
        }
      ]
    },
    {
      "cell_type": "markdown",
      "metadata": {
        "id": "LZk-zPKNnqnv",
        "colab_type": "text"
      },
      "source": [
        "To avoid data leakage, do feature conversiton after train/test split.\n",
        "\n",
        "-What if convert source column by OHE now?\n",
        "it's a sneak peek of the levels of this column in test data, what if there is another new level \"newsPaper\" in source column in test, or one column in test data has larger range compared to that of train data? data leakage, should not know this ahead of time in training\n",
        "\n"
      ]
    },
    {
      "cell_type": "code",
      "metadata": {
        "id": "-nTN1t_8njt1",
        "colab_type": "code",
        "outputId": "b8288e60-3645-4c9f-b995-12a69618b3ff",
        "colab": {
          "base_uri": "https://localhost:8080/",
          "height": 52
        }
      },
      "source": [
        "y = fraud_data['class']\n",
        "X = fraud_data.drop(['class'], axis=1)\n",
        "\n",
        "#split into train/test\n",
        "X_train, X_test, y_train, y_test = train_test_split(X, y, test_size=0.2, random_state=0)\n",
        "print(\"X_train.shape:\", X_train.shape)\n",
        "print(\"y_train.shape:\", y_train.shape)"
      ],
      "execution_count": 0,
      "outputs": [
        {
          "output_type": "stream",
          "text": [
            "X_train.shape: (110700, 13)\n",
            "y_train.shape: (110700,)\n"
          ],
          "name": "stdout"
        }
      ]
    },
    {
      "cell_type": "code",
      "metadata": {
        "id": "TICjky2Hqc0D",
        "colab_type": "code",
        "outputId": "b0d8108e-525d-467e-fca6-5d7ecc0056c6",
        "colab": {
          "base_uri": "https://localhost:8080/",
          "height": 227
        }
      },
      "source": [
        "X_train['country'].value_counts(ascending=True)\n",
        "#drawback: collision in the same bucket(no differentiation for these countries)"
      ],
      "execution_count": 0,
      "outputs": [
        {
          "output_type": "execute_result",
          "data": {
            "text/plain": [
              "Yemen                                 1\n",
              "British Indian Ocean Territory        1\n",
              "Monaco                                1\n",
              "Myanmar                               1\n",
              "San Marino                            1\n",
              "                                  ...  \n",
              "United Kingdom                     3254\n",
              "Japan                              5705\n",
              "China                              8876\n",
              "NA                                14878\n",
              "United States                     43173\n",
              "Name: country, Length: 177, dtype: int64"
            ]
          },
          "metadata": {
            "tags": []
          },
          "execution_count": 188
        }
      ]
    },
    {
      "cell_type": "code",
      "metadata": {
        "id": "anLm7Gl2n5oZ",
        "colab_type": "code",
        "outputId": "f1b25781-d0ca-4563-9d1e-5b875e7c2904",
        "colab": {
          "base_uri": "https://localhost:8080/",
          "height": 275
        }
      },
      "source": [
        "X_train.head()"
      ],
      "execution_count": 0,
      "outputs": [
        {
          "output_type": "execute_result",
          "data": {
            "text/html": [
              "<div>\n",
              "<style scoped>\n",
              "    .dataframe tbody tr th:only-of-type {\n",
              "        vertical-align: middle;\n",
              "    }\n",
              "\n",
              "    .dataframe tbody tr th {\n",
              "        vertical-align: top;\n",
              "    }\n",
              "\n",
              "    .dataframe thead th {\n",
              "        text-align: right;\n",
              "    }\n",
              "</style>\n",
              "<table border=\"1\" class=\"dataframe\">\n",
              "  <thead>\n",
              "    <tr style=\"text-align: right;\">\n",
              "      <th></th>\n",
              "      <th>purchase_value</th>\n",
              "      <th>device_id</th>\n",
              "      <th>source</th>\n",
              "      <th>browser</th>\n",
              "      <th>sex</th>\n",
              "      <th>age</th>\n",
              "      <th>ip_address</th>\n",
              "      <th>country</th>\n",
              "      <th>interval_after_signup</th>\n",
              "      <th>signup_days_of_year</th>\n",
              "      <th>signup_seconds_of_day</th>\n",
              "      <th>purchase_days_of_year</th>\n",
              "      <th>purchase_seconds_of_day</th>\n",
              "    </tr>\n",
              "  </thead>\n",
              "  <tbody>\n",
              "    <tr>\n",
              "      <th>29343</th>\n",
              "      <td>12</td>\n",
              "      <td>OULPAZAFRFPXP</td>\n",
              "      <td>Ads</td>\n",
              "      <td>Chrome</td>\n",
              "      <td>M</td>\n",
              "      <td>42</td>\n",
              "      <td>3.690922e+09</td>\n",
              "      <td>Korea Republic of</td>\n",
              "      <td>3499664.0</td>\n",
              "      <td>183</td>\n",
              "      <td>67384</td>\n",
              "      <td>224</td>\n",
              "      <td>24648</td>\n",
              "    </tr>\n",
              "    <tr>\n",
              "      <th>12190</th>\n",
              "      <td>10</td>\n",
              "      <td>AIIWMFEYQQIEB</td>\n",
              "      <td>Ads</td>\n",
              "      <td>Opera</td>\n",
              "      <td>M</td>\n",
              "      <td>29</td>\n",
              "      <td>1.686759e+09</td>\n",
              "      <td>United States</td>\n",
              "      <td>6766039.0</td>\n",
              "      <td>5</td>\n",
              "      <td>78146</td>\n",
              "      <td>84</td>\n",
              "      <td>18585</td>\n",
              "    </tr>\n",
              "    <tr>\n",
              "      <th>19388</th>\n",
              "      <td>34</td>\n",
              "      <td>VUVETBUPCIWJE</td>\n",
              "      <td>Direct</td>\n",
              "      <td>Chrome</td>\n",
              "      <td>M</td>\n",
              "      <td>53</td>\n",
              "      <td>4.138429e+09</td>\n",
              "      <td>NA</td>\n",
              "      <td>5870515.0</td>\n",
              "      <td>197</td>\n",
              "      <td>81354</td>\n",
              "      <td>265</td>\n",
              "      <td>76669</td>\n",
              "    </tr>\n",
              "    <tr>\n",
              "      <th>89104</th>\n",
              "      <td>48</td>\n",
              "      <td>QCFULAJOYKFUU</td>\n",
              "      <td>Ads</td>\n",
              "      <td>Chrome</td>\n",
              "      <td>M</td>\n",
              "      <td>29</td>\n",
              "      <td>9.617337e+07</td>\n",
              "      <td>France</td>\n",
              "      <td>2145618.0</td>\n",
              "      <td>160</td>\n",
              "      <td>30920</td>\n",
              "      <td>185</td>\n",
              "      <td>16538</td>\n",
              "    </tr>\n",
              "    <tr>\n",
              "      <th>82082</th>\n",
              "      <td>44</td>\n",
              "      <td>IHRWLMIJMEEEU</td>\n",
              "      <td>Ads</td>\n",
              "      <td>FireFox</td>\n",
              "      <td>M</td>\n",
              "      <td>24</td>\n",
              "      <td>1.936025e+09</td>\n",
              "      <td>China</td>\n",
              "      <td>7079059.0</td>\n",
              "      <td>111</td>\n",
              "      <td>71897</td>\n",
              "      <td>193</td>\n",
              "      <td>66156</td>\n",
              "    </tr>\n",
              "  </tbody>\n",
              "</table>\n",
              "</div>"
            ],
            "text/plain": [
              "       purchase_value  ... purchase_seconds_of_day\n",
              "29343              12  ...                   24648\n",
              "12190              10  ...                   18585\n",
              "19388              34  ...                   76669\n",
              "89104              48  ...                   16538\n",
              "82082              44  ...                   66156\n",
              "\n",
              "[5 rows x 13 columns]"
            ]
          },
          "metadata": {
            "tags": []
          },
          "execution_count": 189
        }
      ]
    },
    {
      "cell_type": "markdown",
      "metadata": {
        "id": "HAhaHA5jn-mx",
        "colab_type": "text"
      },
      "source": [
        "Convert 'source' and 'browser' categorical features with high cadinality to numericals (one-hot encoding)"
      ]
    },
    {
      "cell_type": "code",
      "metadata": {
        "id": "pR7DRGgoKA7K",
        "colab_type": "code",
        "colab": {}
      },
      "source": [
        "#one hot encoding for categorical features\n",
        "\n",
        "#converting needs to be done after split\n",
        "X_train = pd.get_dummies(X_train, columns=['source', 'browser']) #['source', 'browser'] will be auto dropped by get_dummies \n",
        "X_train['sex'] = (X_train.sex == 'M').astype(int)"
      ],
      "execution_count": 0,
      "outputs": []
    },
    {
      "cell_type": "markdown",
      "metadata": {
        "id": "NuvXjH8vfLhz",
        "colab_type": "text"
      },
      "source": [
        "Frequency encoding for 'device_id', 'ip_address' and 'country'"
      ]
    },
    {
      "cell_type": "code",
      "metadata": {
        "id": "EVRBUI3fClsr",
        "colab_type": "code",
        "colab": {}
      },
      "source": [
        "#frequency encoding for categorical features, first count frequency, then map frequency to raw data\n",
        "#will be scaled later\n",
        "\n",
        "# the more a device is shared, the more suspicious\n",
        "X_train_device_id_mapping = X_train.device_id.value_counts(dropna=False)\n",
        "X_train['n_dev_shared'] = X_train.device_id.map(X_train_device_id_mapping)# number of times device_id occurred in train data\n",
        "\n",
        "# the more a ip is shared, the more suspicious\n",
        "X_train_ip_address_mapping = X_train.ip_address.value_counts(dropna=False)\n",
        "X_train['n_ip_shared'] = X_train.ip_address.map(X_train_ip_address_mapping)\n",
        "\n",
        "# the less visit from a country, the more suspicious\n",
        "X_train_country_mapping = X_train.country.value_counts(dropna=False)\n",
        "X_train['n_country_shared'] = X_train.country.map(X_train_country_mapping)#lots of NAs in country column, #without dropna=False will produce nan in this col\n",
        "\n",
        "\n",
        "X_train = X_train.drop(['device_id','ip_address','country'], axis=1)"
      ],
      "execution_count": 0,
      "outputs": []
    },
    {
      "cell_type": "code",
      "metadata": {
        "id": "PHEn5NB2oBnX",
        "colab_type": "code",
        "colab": {}
      },
      "source": [
        "#Do the same conversion for test data, but based on test data (data leak), not from training\n",
        "X_test = pd.get_dummies(X_test, columns=['source', 'browser'])\n",
        "X_test['sex'] = (X_test.sex == 'M').astype(int)\n",
        "\n",
        "# the more a device is shared, the more suspicious\n",
        "X_test['n_dev_shared'] = X_test.device_id.map(X_test.device_id.value_counts(dropna=False))\n",
        "\n",
        "# the more a ip is shared, the more suspicious\n",
        "X_test['n_ip_shared'] = X_test.ip_address.map(X_test.ip_address.value_counts(dropna=False))\n",
        "\n",
        "# the less visit from a country, the more suspicious\n",
        "X_test['n_country_shared'] = X_test.country.map(X_test.country.value_counts(dropna=False))\n",
        "\n",
        "X_test = X_test.drop(['device_id','ip_address','country'], axis=1)"
      ],
      "execution_count": 0,
      "outputs": []
    },
    {
      "cell_type": "code",
      "metadata": {
        "id": "IOmaHr8zoFIB",
        "colab_type": "code",
        "outputId": "6916d23e-6de4-48fc-a919-34162c96cf87",
        "colab": {
          "base_uri": "https://localhost:8080/",
          "height": 224
        }
      },
      "source": [
        "X_train.head()"
      ],
      "execution_count": 0,
      "outputs": [
        {
          "output_type": "execute_result",
          "data": {
            "text/html": [
              "<div>\n",
              "<style scoped>\n",
              "    .dataframe tbody tr th:only-of-type {\n",
              "        vertical-align: middle;\n",
              "    }\n",
              "\n",
              "    .dataframe tbody tr th {\n",
              "        vertical-align: top;\n",
              "    }\n",
              "\n",
              "    .dataframe thead th {\n",
              "        text-align: right;\n",
              "    }\n",
              "</style>\n",
              "<table border=\"1\" class=\"dataframe\">\n",
              "  <thead>\n",
              "    <tr style=\"text-align: right;\">\n",
              "      <th></th>\n",
              "      <th>purchase_value</th>\n",
              "      <th>sex</th>\n",
              "      <th>age</th>\n",
              "      <th>interval_after_signup</th>\n",
              "      <th>signup_days_of_year</th>\n",
              "      <th>signup_seconds_of_day</th>\n",
              "      <th>purchase_days_of_year</th>\n",
              "      <th>purchase_seconds_of_day</th>\n",
              "      <th>source_Ads</th>\n",
              "      <th>source_Direct</th>\n",
              "      <th>source_SEO</th>\n",
              "      <th>browser_Chrome</th>\n",
              "      <th>browser_FireFox</th>\n",
              "      <th>browser_IE</th>\n",
              "      <th>browser_Opera</th>\n",
              "      <th>browser_Safari</th>\n",
              "      <th>n_dev_shared</th>\n",
              "      <th>n_ip_shared</th>\n",
              "      <th>n_country_shared</th>\n",
              "    </tr>\n",
              "  </thead>\n",
              "  <tbody>\n",
              "    <tr>\n",
              "      <th>29343</th>\n",
              "      <td>12</td>\n",
              "      <td>1</td>\n",
              "      <td>42</td>\n",
              "      <td>3499664.0</td>\n",
              "      <td>183</td>\n",
              "      <td>67384</td>\n",
              "      <td>224</td>\n",
              "      <td>24648</td>\n",
              "      <td>1</td>\n",
              "      <td>0</td>\n",
              "      <td>0</td>\n",
              "      <td>1</td>\n",
              "      <td>0</td>\n",
              "      <td>0</td>\n",
              "      <td>0</td>\n",
              "      <td>0</td>\n",
              "      <td>1</td>\n",
              "      <td>1</td>\n",
              "      <td>3075</td>\n",
              "    </tr>\n",
              "    <tr>\n",
              "      <th>12190</th>\n",
              "      <td>10</td>\n",
              "      <td>1</td>\n",
              "      <td>29</td>\n",
              "      <td>6766039.0</td>\n",
              "      <td>5</td>\n",
              "      <td>78146</td>\n",
              "      <td>84</td>\n",
              "      <td>18585</td>\n",
              "      <td>1</td>\n",
              "      <td>0</td>\n",
              "      <td>0</td>\n",
              "      <td>0</td>\n",
              "      <td>0</td>\n",
              "      <td>0</td>\n",
              "      <td>1</td>\n",
              "      <td>0</td>\n",
              "      <td>1</td>\n",
              "      <td>1</td>\n",
              "      <td>43173</td>\n",
              "    </tr>\n",
              "    <tr>\n",
              "      <th>19388</th>\n",
              "      <td>34</td>\n",
              "      <td>1</td>\n",
              "      <td>53</td>\n",
              "      <td>5870515.0</td>\n",
              "      <td>197</td>\n",
              "      <td>81354</td>\n",
              "      <td>265</td>\n",
              "      <td>76669</td>\n",
              "      <td>0</td>\n",
              "      <td>1</td>\n",
              "      <td>0</td>\n",
              "      <td>1</td>\n",
              "      <td>0</td>\n",
              "      <td>0</td>\n",
              "      <td>0</td>\n",
              "      <td>0</td>\n",
              "      <td>1</td>\n",
              "      <td>1</td>\n",
              "      <td>14878</td>\n",
              "    </tr>\n",
              "    <tr>\n",
              "      <th>89104</th>\n",
              "      <td>48</td>\n",
              "      <td>1</td>\n",
              "      <td>29</td>\n",
              "      <td>2145618.0</td>\n",
              "      <td>160</td>\n",
              "      <td>30920</td>\n",
              "      <td>185</td>\n",
              "      <td>16538</td>\n",
              "      <td>1</td>\n",
              "      <td>0</td>\n",
              "      <td>0</td>\n",
              "      <td>1</td>\n",
              "      <td>0</td>\n",
              "      <td>0</td>\n",
              "      <td>0</td>\n",
              "      <td>0</td>\n",
              "      <td>1</td>\n",
              "      <td>1</td>\n",
              "      <td>2324</td>\n",
              "    </tr>\n",
              "    <tr>\n",
              "      <th>82082</th>\n",
              "      <td>44</td>\n",
              "      <td>1</td>\n",
              "      <td>24</td>\n",
              "      <td>7079059.0</td>\n",
              "      <td>111</td>\n",
              "      <td>71897</td>\n",
              "      <td>193</td>\n",
              "      <td>66156</td>\n",
              "      <td>1</td>\n",
              "      <td>0</td>\n",
              "      <td>0</td>\n",
              "      <td>0</td>\n",
              "      <td>1</td>\n",
              "      <td>0</td>\n",
              "      <td>0</td>\n",
              "      <td>0</td>\n",
              "      <td>1</td>\n",
              "      <td>1</td>\n",
              "      <td>8876</td>\n",
              "    </tr>\n",
              "  </tbody>\n",
              "</table>\n",
              "</div>"
            ],
            "text/plain": [
              "       purchase_value  sex  age  ...  n_dev_shared  n_ip_shared  n_country_shared\n",
              "29343              12    1   42  ...             1            1              3075\n",
              "12190              10    1   29  ...             1            1             43173\n",
              "19388              34    1   53  ...             1            1             14878\n",
              "89104              48    1   29  ...             1            1              2324\n",
              "82082              44    1   24  ...             1            1              8876\n",
              "\n",
              "[5 rows x 19 columns]"
            ]
          },
          "metadata": {
            "tags": []
          },
          "execution_count": 193
        }
      ]
    },
    {
      "cell_type": "markdown",
      "metadata": {
        "id": "rZur8roZqijy",
        "colab_type": "text"
      },
      "source": [
        "Do feature normalization for 'device_id', 'ip_address' and 'country'"
      ]
    },
    {
      "cell_type": "code",
      "metadata": {
        "id": "cOTWLlZaqOP0",
        "colab_type": "code",
        "colab": {}
      },
      "source": [
        "# # normalize (min-max) to [0,1], standardize(StandardScaler) to normal, mu=0,var = 1 can < 0, so we do normalize here\n",
        "\n",
        "# needs to be brought to the same scale for models like LR with regularization(that are not tree based)\n",
        "\n",
        "#Compute the train minimum and maximum to be used for later scaling:\n",
        "scaler = preprocessing.MinMaxScaler().fit(X_train[['n_dev_shared', 'n_ip_shared', 'n_country_shared']]) \n",
        "#print(scaler.data_max_)\n",
        "\n",
        "#transform the training data and use them for the model training\n",
        "X_train[['n_dev_shared', 'n_ip_shared', 'n_country_shared']] = scaler.transform(X_train[['n_dev_shared', 'n_ip_shared', 'n_country_shared']])\n",
        "\n",
        "#before the prediction of the test data, apply the same scaler obtained from above on X_test, not fitting a brandnew scaler on test\n",
        "X_test[['n_dev_shared', 'n_ip_shared', 'n_country_shared']] = scaler.transform(X_test[['n_dev_shared', 'n_ip_shared', 'n_country_shared']])"
      ],
      "execution_count": 0,
      "outputs": []
    },
    {
      "cell_type": "code",
      "metadata": {
        "id": "3ZiZjqSwql4G",
        "colab_type": "code",
        "outputId": "0a5c83b9-ebc4-4bd6-ab13-9a03c5a85628",
        "colab": {
          "base_uri": "https://localhost:8080/",
          "height": 140
        }
      },
      "source": [
        "X_train.n_dev_shared.value_counts(dropna=False)"
      ],
      "execution_count": 0,
      "outputs": [
        {
          "output_type": "execute_result",
          "data": {
            "text/plain": [
              "0.0    105427\n",
              "0.2      4774\n",
              "0.4       324\n",
              "0.6       124\n",
              "0.8        45\n",
              "1.0         6\n",
              "Name: n_dev_shared, dtype: int64"
            ]
          },
          "metadata": {
            "tags": []
          },
          "execution_count": 195
        }
      ]
    },
    {
      "cell_type": "code",
      "metadata": {
        "id": "7M70uIMOqomS",
        "colab_type": "code",
        "outputId": "e1f429ae-604f-46eb-adfe-ed3f3e07886a",
        "colab": {
          "base_uri": "https://localhost:8080/",
          "height": 87
        }
      },
      "source": [
        "X_test.n_dev_shared.value_counts(dropna=False)"
      ],
      "execution_count": 0,
      "outputs": [
        {
          "output_type": "execute_result",
          "data": {
            "text/plain": [
              "0.0    27330\n",
              "0.2      334\n",
              "0.4       12\n",
              "Name: n_dev_shared, dtype: int64"
            ]
          },
          "metadata": {
            "tags": []
          },
          "execution_count": 196
        }
      ]
    },
    {
      "cell_type": "markdown",
      "metadata": {
        "id": "7v2kbqD8GacS",
        "colab_type": "text"
      },
      "source": [
        "# Model training /Tuning"
      ]
    },
    {
      "cell_type": "markdown",
      "metadata": {
        "id": "x9W2GbVgq2ei",
        "colab_type": "text"
      },
      "source": [
        "[link text](https://)## Simple Logistic Regression model"
      ]
    },
    {
      "cell_type": "code",
      "metadata": {
        "id": "OkdEYm02qrU0",
        "colab_type": "code",
        "colab": {}
      },
      "source": [
        "# instantiate the model (using the default parameters)\n",
        "logreg = LogisticRegression()\n",
        "\n",
        "# fit the model with data\n",
        "logreg.fit(X_train,y_train)\n",
        "\n",
        "# predict on test\n",
        "y_pred=logreg.predict(X_test)"
      ],
      "execution_count": 0,
      "outputs": []
    },
    {
      "cell_type": "code",
      "metadata": {
        "id": "mMrF7AsYqvFr",
        "colab_type": "code",
        "outputId": "1a593d04-7936-4692-d855-3d0e89e216b5",
        "colab": {
          "base_uri": "https://localhost:8080/",
          "height": 90
        }
      },
      "source": [
        "cm = metrics.confusion_matrix(y_test, y_pred)\n",
        "cmDF = pd.DataFrame(cm, columns=['pred_0', 'pred_1'], index=['true_0', 'true_1'])\n",
        "print(cmDF)"
      ],
      "execution_count": 0,
      "outputs": [
        {
          "output_type": "stream",
          "text": [
            "        pred_0  pred_1\n",
            "true_0   27389       0\n",
            "true_1     287       0\n"
          ],
          "name": "stdout"
        }
      ]
    },
    {
      "cell_type": "markdown",
      "metadata": {
        "id": "n6HxtgxDq6Dw",
        "colab_type": "text"
      },
      "source": [
        "## Simple random forest model"
      ]
    },
    {
      "cell_type": "code",
      "metadata": {
        "id": "80KetNR-qxek",
        "colab_type": "code",
        "outputId": "b1cd5f5b-939c-4fd9-eb7f-7b58b81d5a8a",
        "colab": {
          "base_uri": "https://localhost:8080/",
          "height": 195
        }
      },
      "source": [
        "classifier_RF = RandomForestClassifier(random_state=0)\n",
        "\n",
        "classifier_RF.fit(X_train, y_train)\n",
        "\n",
        "# predict class labels 0/1 for the test set\n",
        "predicted = classifier_RF.predict(X_test)\n",
        "\n",
        "# generate class probabilities, used for roc_auc_score\n",
        "probs = classifier_RF.predict_proba(X_test)\n",
        "\n",
        "# generate evaluation metrics\n",
        "print(\"%s: %r\" % (\"accuracy_score is: \", accuracy_score(y_test, predicted)))\n",
        "print(\"%s: %r\" % (\"roc_auc_score is: \", roc_auc_score(y_test, probs[:, 1])))\n",
        "print(\"%s: %r\" % (\"f1_score is: \", f1_score(y_test, predicted )))#string to int\n",
        "\n",
        "print (\"confusion_matrix is: \")\n",
        "cm = confusion_matrix(y_test, predicted)\n",
        "cmDF = pd.DataFrame(cm, columns=['pred_0', 'pred_1'], index=['true_0', 'true_1'])\n",
        "print(cmDF)\n",
        "print('recall =',float(cm[1,1])/(cm[1,0]+cm[1,1]))\n",
        "print('precision =', float(cm[1,1])/(cm[1,1] + cm[0,1]))#1.0"
      ],
      "execution_count": 0,
      "outputs": [
        {
          "output_type": "stream",
          "text": [
            "accuracy_score is: : 0.9948692007515537\n",
            "roc_auc_score is: : 0.751059169078153\n",
            "f1_score is: : 0.6712962962962962\n",
            "confusion_matrix is: \n",
            "        pred_0  pred_1\n",
            "true_0   27389       0\n",
            "true_1     142     145\n",
            "recall = 0.5052264808362369\n",
            "precision = 1.0\n"
          ],
          "name": "stdout"
        }
      ]
    },
    {
      "cell_type": "markdown",
      "metadata": {
        "id": "V_NNOcbbmXt0",
        "colab_type": "text"
      },
      "source": [
        "## Random forest model with SMOTE train data"
      ]
    },
    {
      "cell_type": "markdown",
      "metadata": {
        "id": "0iDA5X4hrIYB",
        "colab_type": "text"
      },
      "source": [
        "SMOTE sampling\n",
        "- SMOTE after train/test split, otherwise test data can not reflect true distribution in reality\n",
        "- Do SMOTE oversampling on trainin data\n",
        "- Sampling_strategy = number of samples in the majority class is the same as the number of samples in the minority class after resampling"
      ]
    },
    {
      "cell_type": "code",
      "metadata": {
        "id": "caUbRizDq9Im",
        "colab_type": "code",
        "outputId": "e24e934e-7933-4f1d-e435-80c0f5d3a28a",
        "colab": {
          "base_uri": "https://localhost:8080/",
          "height": 125
        }
      },
      "source": [
        "smote = SMOTE(random_state=12)\n",
        "x_train_sm, y_train_sm = smote.fit_sample(X_train, y_train)\n",
        "\n",
        "unique, counts = np.unique(y_train_sm, return_counts=True)\n",
        "\n",
        "print(\"X_train_sm.shape:\", x_train_sm.shape)\n",
        "print(np.asarray((unique, counts)).T)"
      ],
      "execution_count": 0,
      "outputs": [
        {
          "output_type": "stream",
          "text": [
            "/usr/local/lib/python3.6/dist-packages/sklearn/utils/deprecation.py:87: FutureWarning: Function safe_indexing is deprecated; safe_indexing is deprecated in version 0.22 and will be removed in version 0.24.\n",
            "  warnings.warn(msg, category=FutureWarning)\n"
          ],
          "name": "stderr"
        },
        {
          "output_type": "stream",
          "text": [
            "X_train_sm.shape: (219144, 19)\n",
            "[[     0 109572]\n",
            " [     1 109572]]\n"
          ],
          "name": "stdout"
        }
      ]
    },
    {
      "cell_type": "code",
      "metadata": {
        "id": "rbCwzZYSrNGn",
        "colab_type": "code",
        "outputId": "55d799df-c09f-41e6-a6ad-582b39b891de",
        "colab": {
          "base_uri": "https://localhost:8080/",
          "height": 195
        }
      },
      "source": [
        "#RF on smoted training data\n",
        "classifier_RF_sm = RandomForestClassifier(random_state=0)\n",
        "\n",
        "classifier_RF_sm.fit(x_train_sm, y_train_sm)\n",
        "\n",
        "# predict class labels for the test set\n",
        "predicted_sm = classifier_RF_sm.predict(X_test)\n",
        "\n",
        "# generate class probabilities\n",
        "probs_sm = classifier_RF_sm.predict_proba(X_test)\n",
        "\n",
        "# generate evaluation metrics\n",
        "print(\"%s: %r\" % (\"accuracy_score_sm is: \", accuracy_score(y_test, predicted_sm)))\n",
        "print(\"%s: %r\" % (\"roc_auc_score_sm is: \", roc_auc_score(y_test, probs_sm[:, 1])))\n",
        "print(\"%s: %r\" % (\"f1_score_sm is: \", f1_score(y_test, predicted_sm )))#string to int\n",
        "\n",
        "print (\"confusion_matrix_sm is: \")\n",
        "cm_sm = confusion_matrix(y_test, predicted_sm)\n",
        "cmDF = pd.DataFrame(cm_sm, columns=['pred_0', 'pred_1'], index=['true_0', 'true_1'])\n",
        "print(cmDF)\n",
        "print('recall or sens_sm =',float(cm_sm[1,1])/(cm_sm[1,0]+cm_sm[1,1]))\n",
        "print('precision_sm =', float(cm_sm[1,1])/(cm_sm[1,1] + cm_sm[0,1]))\n",
        "\n",
        "#Here, no significant difference compared with no SMOTE"
      ],
      "execution_count": 0,
      "outputs": [
        {
          "output_type": "stream",
          "text": [
            "accuracy_score_sm is: : 0.9948330683624801\n",
            "roc_auc_score_sm is: : 0.7668476993548746\n",
            "f1_score_sm is: : 0.6697459584295612\n",
            "confusion_matrix_sm is: \n",
            "        pred_0  pred_1\n",
            "true_0   27388       1\n",
            "true_1     142     145\n",
            "recall or sens_sm = 0.5052264808362369\n",
            "precision_sm = 0.9931506849315068\n"
          ],
          "name": "stdout"
        }
      ]
    },
    {
      "cell_type": "markdown",
      "metadata": {
        "id": "rexkQZL5nAGi",
        "colab_type": "text"
      },
      "source": [
        "## XGBoost Model"
      ]
    },
    {
      "cell_type": "code",
      "metadata": {
        "id": "3dw7mQ4NnGFB",
        "colab_type": "code",
        "outputId": "f7063d12-0413-4830-9f06-da0b834873ea",
        "colab": {
          "base_uri": "https://localhost:8080/",
          "height": 175
        }
      },
      "source": [
        "import xgboost as xgb\n",
        "classifier_XGB = xgb.XGBClassifier(random_state=0, learning_rate=0.1)\n",
        "classifier_XGB.fit(X_train, y_train)\n",
        "\n",
        "# predict class labels 0/1 for the test set\n",
        "predicted = classifier_XGB.predict(X_test)\n",
        "\n",
        "# generate class probabilities, used for roc_auc_score\n",
        "probs = classifier_XGB.predict_proba(X_test)\n",
        "\n",
        "# generate evaluation metrics\n",
        "print(\"%s: %r\" % (\"accuracy_score is: \", accuracy_score(y_test, predicted)))\n",
        "print(\"%s: %r\" % (\"roc_auc_score is: \", roc_auc_score(y_test, probs[:, 1])))\n",
        "print(\"%s: %r\" % (\"f1_score is: \", f1_score(y_test, predicted )))#string to int\n",
        "\n",
        "print (\"confusion_matrix is: \")\n",
        "cm = confusion_matrix(y_test, predicted)\n",
        "cmDF = pd.DataFrame(cm, columns=['pred_0', 'pred_1'], index=['true_0', 'true_1'])\n",
        "print(cmDF)\n",
        "print('recall =',float(cm[1,1])/(cm[1,0]+cm[1,1]))\n",
        "print('precision =', float(cm[1,1])/(cm[1,1] + cm[0,1]))#1.0\n"
      ],
      "execution_count": 0,
      "outputs": [
        {
          "output_type": "stream",
          "text": [
            "accuracy_score is: : 0.9948692007515537\n",
            "roc_auc_score is: : 0.7949134695469569\n",
            "f1_score is: : 0.6712962962962962\n",
            "confusion_matrix is: \n",
            "        pred_0  pred_1\n",
            "true_0   27389       0\n",
            "true_1     142     145\n",
            "recall = 0.5052264808362369\n",
            "precision = 1.0\n"
          ],
          "name": "stdout"
        }
      ]
    },
    {
      "cell_type": "code",
      "metadata": {
        "id": "HJvZmVueG-qO",
        "colab_type": "code",
        "outputId": "644ded0e-e17c-44de-84e4-9c5f3071c415",
        "colab": {
          "base_uri": "https://localhost:8080/",
          "height": 140
        }
      },
      "source": [
        "classifier_XGB"
      ],
      "execution_count": 0,
      "outputs": [
        {
          "output_type": "execute_result",
          "data": {
            "text/plain": [
              "XGBClassifier(base_score=0.5, booster='gbtree', colsample_bylevel=1,\n",
              "              colsample_bynode=1, colsample_bytree=1, gamma=0,\n",
              "              learning_rate=0.1, max_delta_step=0, max_depth=3,\n",
              "              min_child_weight=1, missing=None, n_estimators=100, n_jobs=1,\n",
              "              nthread=None, objective='binary:logistic', random_state=0,\n",
              "              reg_alpha=0, reg_lambda=1, scale_pos_weight=1, seed=None,\n",
              "              silent=None, subsample=1, verbosity=1)"
            ]
          },
          "metadata": {
            "tags": []
          },
          "execution_count": 203
        }
      ]
    },
    {
      "cell_type": "markdown",
      "metadata": {
        "id": "ldszZ1T-rhOx",
        "colab_type": "text"
      },
      "source": [
        "# Parameter tuning by GridSearchCV"
      ]
    },
    {
      "cell_type": "markdown",
      "metadata": {
        "id": "F1bV_jCkrkWF",
        "colab_type": "text"
      },
      "source": [
        "Eval metrics for GridSearchCV over all fits upon combination of parameters and cv"
      ]
    },
    {
      "cell_type": "code",
      "metadata": {
        "id": "sFfAZlQDrQAb",
        "colab_type": "code",
        "colab": {}
      },
      "source": [
        "# Eval metrics to be calculated for each combination of parameters and cv, they are all calculated(by scoring), but not necessarily used to pick the optimal(by refit)\n",
        "scorers = {\n",
        "    'precision_score': make_scorer(precision_score),\n",
        "    'recall_score': make_scorer(recall_score),\n",
        "    'f1_score': make_scorer(f1_score, pos_label=1)\n",
        "}"
      ],
      "execution_count": 0,
      "outputs": []
    },
    {
      "cell_type": "code",
      "metadata": {
        "id": "RdgTcDHirmpK",
        "colab_type": "code",
        "colab": {}
      },
      "source": [
        "def grid_search_wrapper(model, parameters, refit_score='f1_score'):\n",
        "    \"\"\"\n",
        "    fits a GridSearchCV classifier using refit_score for optimization(refit on the best model according to refit_score)\n",
        "    prints classifier performance metrics\n",
        "    \"\"\"\n",
        "\n",
        "    grid_search = GridSearchCV(model, parameters, scoring=scorers, refit=refit_score,\n",
        "                           cv=3, return_train_score=True, n_jobs=-1)\n",
        "    grid_search.fit(X_train, y_train)\n",
        "\n",
        "    # make the predictions\n",
        "    y_pred = grid_search.predict(X_test)\n",
        "    y_prob = grid_search.predict_proba(X_test)[:, 1]\n",
        "    \n",
        "    print('Best params for {}'.format(refit_score))\n",
        "    print(grid_search.best_params_)\n",
        "\n",
        "    # confusion matrix on the test data.\n",
        "    print('\\nConfusion matrix optimized for {} on the train data:'.format(refit_score))\n",
        "    y_train_pred = grid_search.predict(X_train)\n",
        "    cm = confusion_matrix(y_train, y_train_pred)\n",
        "    cmDF = pd.DataFrame(cm, columns=['pred_0', 'pred_1'], index=['true_0', 'true_1'])\n",
        "    print(cmDF)\n",
        "\n",
        "    # confusion matrix on the test data.\n",
        "    print('\\nConfusion matrix optimized for {} on the test data:'.format(refit_score))\n",
        "    cm = confusion_matrix(y_test, y_pred)\n",
        "    cmDF = pd.DataFrame(cm, columns=['pred_0', 'pred_1'], index=['true_0', 'true_1'])\n",
        "    print(cmDF)\n",
        "    \n",
        "    print(\"\\t%s: %r\" % (\"roc_auc_score is: \", roc_auc_score(y_test, y_prob)))\n",
        "    print(\"\\t%s: %r\" % (\"f1_score is: \", f1_score(y_test, y_pred)))#string to int\n",
        "\n",
        "    print('recall = ', float(cm[1,1]) / (cm[1,0] + cm[1,1]))\n",
        "    print('precision = ', float(cm[1,1]) / (cm[1, 1] + cm[0,1]))\n",
        "\n",
        "    return grid_search"
      ],
      "execution_count": 0,
      "outputs": []
    },
    {
      "cell_type": "markdown",
      "metadata": {
        "id": "hsRYsbmWrxRX",
        "colab_type": "text"
      },
      "source": [
        "##Optimizing on f1_score on LR"
      ]
    },
    {
      "cell_type": "code",
      "metadata": {
        "id": "auoYm_uXrpK8",
        "colab_type": "code",
        "outputId": "08789d9d-3ebc-4529-ef89-cf1a1d3228d0",
        "colab": {
          "base_uri": "https://localhost:8080/",
          "height": 335
        }
      },
      "source": [
        "# C: inverse of regularization strength, smaller values specify stronger regularization\n",
        "LRGrid = {\"C\" : np.logspace(-2,2,5), \"penalty\":[\"l1\",\"l2\"]}# l1 lasso l2 ridge\n",
        "#param_grid = {'C': [0.01, 0.1, 1, 10, 100], 'penalty': ['l1', 'l2']}\n",
        "logRegModel = LogisticRegression(random_state=0)\n",
        "\n",
        "grid_search_LR_f1 = grid_search_wrapper(logRegModel, LRGrid, refit_score='f1_score')"
      ],
      "execution_count": 0,
      "outputs": [
        {
          "output_type": "stream",
          "text": [
            "Best params for f1_score\n",
            "{'C': 0.01, 'penalty': 'l2'}\n",
            "\n",
            "Confusion matrix optimized for f1_score on the train data:\n",
            "        pred_0  pred_1\n",
            "true_0  109572       0\n",
            "true_1    1128       0\n",
            "\n",
            "Confusion matrix optimized for f1_score on the test data:\n",
            "        pred_0  pred_1\n",
            "true_0   27389       0\n",
            "true_1     287       0\n",
            "\troc_auc_score is: : 0.7505919045045043\n",
            "\tf1_score is: : 0.0\n",
            "recall =  0.0\n",
            "precision =  nan\n"
          ],
          "name": "stdout"
        },
        {
          "output_type": "stream",
          "text": [
            "/usr/local/lib/python3.6/dist-packages/ipykernel_launcher.py:35: RuntimeWarning: invalid value encountered in true_divide\n"
          ],
          "name": "stderr"
        }
      ]
    },
    {
      "cell_type": "markdown",
      "metadata": {
        "id": "8nXA4BYJr238",
        "colab_type": "text"
      },
      "source": [
        "### Optimizing on f1_score on RF"
      ]
    },
    {
      "cell_type": "code",
      "metadata": {
        "id": "WYdxvC56r0i4",
        "colab_type": "code",
        "colab": {}
      },
      "source": [
        "parameters = {        \n",
        "'max_depth': [None, 5, 15],\n",
        "'n_estimators' :  [10,150],\n",
        "'class_weight' : [{0: 1, 1: w} for w in [0.2, 1, 100]]\n",
        "}\n",
        "\n",
        "clf = RandomForestClassifier(random_state=0)"
      ],
      "execution_count": 0,
      "outputs": []
    },
    {
      "cell_type": "code",
      "metadata": {
        "id": "Ts64O7eWr5g2",
        "colab_type": "code",
        "outputId": "12ea7446-9d50-432d-f50c-7ec94237dfc5",
        "colab": {
          "base_uri": "https://localhost:8080/",
          "height": 317
        }
      },
      "source": [
        "grid_search_rf_f1 = grid_search_wrapper(clf, parameters, refit_score='f1_score')"
      ],
      "execution_count": 0,
      "outputs": [
        {
          "output_type": "stream",
          "text": [
            "Best params for f1_score\n",
            "{'class_weight': {0: 1, 1: 0.2}, 'max_depth': None, 'n_estimators': 150}\n",
            "\n",
            "Confusion matrix optimized for f1_score on the train data:\n",
            "        pred_0  pred_1\n",
            "true_0  109572       0\n",
            "true_1       0    1128\n",
            "\n",
            "Confusion matrix optimized for f1_score on the test data:\n",
            "        pred_0  pred_1\n",
            "true_0   27389       0\n",
            "true_1     142     145\n",
            "\troc_auc_score is: : 0.774580908966353\n",
            "\tf1_score is: : 0.6712962962962962\n",
            "recall =  0.5052264808362369\n",
            "precision =  1.0\n"
          ],
          "name": "stdout"
        }
      ]
    },
    {
      "cell_type": "code",
      "metadata": {
        "id": "xjYCYlbmr8BV",
        "colab_type": "code",
        "outputId": "1ea5fef5-1cca-4772-8cf2-adb35a4e8ece",
        "colab": {
          "base_uri": "https://localhost:8080/",
          "height": 177
        }
      },
      "source": [
        "best_rf_model_f1 = grid_search_rf_f1.best_estimator_\n",
        "best_rf_model_f1"
      ],
      "execution_count": 0,
      "outputs": [
        {
          "output_type": "execute_result",
          "data": {
            "text/plain": [
              "RandomForestClassifier(bootstrap=True, ccp_alpha=0.0,\n",
              "                       class_weight={0: 1, 1: 0.2}, criterion='gini',\n",
              "                       max_depth=None, max_features='auto', max_leaf_nodes=None,\n",
              "                       max_samples=None, min_impurity_decrease=0.0,\n",
              "                       min_impurity_split=None, min_samples_leaf=1,\n",
              "                       min_samples_split=2, min_weight_fraction_leaf=0.0,\n",
              "                       n_estimators=150, n_jobs=None, oob_score=False,\n",
              "                       random_state=0, verbose=0, warm_start=False)"
            ]
          },
          "metadata": {
            "tags": []
          },
          "execution_count": 209
        }
      ]
    },
    {
      "cell_type": "code",
      "metadata": {
        "id": "K6NOTqRHr-oA",
        "colab_type": "code",
        "outputId": "4de19846-dfa1-49c1-c4d9-97c93804e2ca",
        "colab": {
          "base_uri": "https://localhost:8080/",
          "height": 224
        }
      },
      "source": [
        "results_f1 = pd.DataFrame(grid_search_rf_f1.cv_results_)\n",
        "results_sortf1 = results_f1.sort_values(by='mean_test_f1_score', ascending=False)\n",
        "results_sortf1[['mean_test_precision_score', 'mean_test_recall_score', 'mean_test_f1_score', 'mean_train_precision_score', 'mean_train_recall_score', 'mean_train_f1_score','param_max_depth', 'param_class_weight', 'param_n_estimators']].round(3).head()"
      ],
      "execution_count": 0,
      "outputs": [
        {
          "output_type": "execute_result",
          "data": {
            "text/html": [
              "<div>\n",
              "<style scoped>\n",
              "    .dataframe tbody tr th:only-of-type {\n",
              "        vertical-align: middle;\n",
              "    }\n",
              "\n",
              "    .dataframe tbody tr th {\n",
              "        vertical-align: top;\n",
              "    }\n",
              "\n",
              "    .dataframe thead th {\n",
              "        text-align: right;\n",
              "    }\n",
              "</style>\n",
              "<table border=\"1\" class=\"dataframe\">\n",
              "  <thead>\n",
              "    <tr style=\"text-align: right;\">\n",
              "      <th></th>\n",
              "      <th>mean_test_precision_score</th>\n",
              "      <th>mean_test_recall_score</th>\n",
              "      <th>mean_test_f1_score</th>\n",
              "      <th>mean_train_precision_score</th>\n",
              "      <th>mean_train_recall_score</th>\n",
              "      <th>mean_train_f1_score</th>\n",
              "      <th>param_max_depth</th>\n",
              "      <th>param_class_weight</th>\n",
              "      <th>param_n_estimators</th>\n",
              "    </tr>\n",
              "  </thead>\n",
              "  <tbody>\n",
              "    <tr>\n",
              "      <th>9</th>\n",
              "      <td>1.0</td>\n",
              "      <td>0.527</td>\n",
              "      <td>0.69</td>\n",
              "      <td>1.0</td>\n",
              "      <td>0.527</td>\n",
              "      <td>0.690</td>\n",
              "      <td>5</td>\n",
              "      <td>{0: 1, 1: 1}</td>\n",
              "      <td>150</td>\n",
              "    </tr>\n",
              "    <tr>\n",
              "      <th>7</th>\n",
              "      <td>1.0</td>\n",
              "      <td>0.527</td>\n",
              "      <td>0.69</td>\n",
              "      <td>1.0</td>\n",
              "      <td>1.000</td>\n",
              "      <td>1.000</td>\n",
              "      <td>None</td>\n",
              "      <td>{0: 1, 1: 1}</td>\n",
              "      <td>150</td>\n",
              "    </tr>\n",
              "    <tr>\n",
              "      <th>13</th>\n",
              "      <td>1.0</td>\n",
              "      <td>0.527</td>\n",
              "      <td>0.69</td>\n",
              "      <td>1.0</td>\n",
              "      <td>1.000</td>\n",
              "      <td>1.000</td>\n",
              "      <td>None</td>\n",
              "      <td>{0: 1, 1: 100}</td>\n",
              "      <td>150</td>\n",
              "    </tr>\n",
              "    <tr>\n",
              "      <th>3</th>\n",
              "      <td>1.0</td>\n",
              "      <td>0.527</td>\n",
              "      <td>0.69</td>\n",
              "      <td>1.0</td>\n",
              "      <td>0.527</td>\n",
              "      <td>0.690</td>\n",
              "      <td>5</td>\n",
              "      <td>{0: 1, 1: 0.2}</td>\n",
              "      <td>150</td>\n",
              "    </tr>\n",
              "    <tr>\n",
              "      <th>11</th>\n",
              "      <td>1.0</td>\n",
              "      <td>0.527</td>\n",
              "      <td>0.69</td>\n",
              "      <td>1.0</td>\n",
              "      <td>0.586</td>\n",
              "      <td>0.739</td>\n",
              "      <td>15</td>\n",
              "      <td>{0: 1, 1: 1}</td>\n",
              "      <td>150</td>\n",
              "    </tr>\n",
              "  </tbody>\n",
              "</table>\n",
              "</div>"
            ],
            "text/plain": [
              "    mean_test_precision_score  ...  param_n_estimators\n",
              "9                         1.0  ...                 150\n",
              "7                         1.0  ...                 150\n",
              "13                        1.0  ...                 150\n",
              "3                         1.0  ...                 150\n",
              "11                        1.0  ...                 150\n",
              "\n",
              "[5 rows x 9 columns]"
            ]
          },
          "metadata": {
            "tags": []
          },
          "execution_count": 210
        }
      ]
    },
    {
      "cell_type": "markdown",
      "metadata": {
        "id": "ycvKSlVRp3Vw",
        "colab_type": "text"
      },
      "source": [
        "##Check feature importance\n",
        "Find out the most importance features are:\n",
        "- interval_after_signup\n",
        "- purchase_days_of_year"
      ]
    },
    {
      "cell_type": "code",
      "metadata": {
        "id": "ccCAMjbrsBK1",
        "colab_type": "code",
        "outputId": "9f9e185d-a893-408e-88f7-146502c8f4a6",
        "colab": {
          "base_uri": "https://localhost:8080/",
          "height": 658
        }
      },
      "source": [
        "#check feature importance\n",
        "pd.DataFrame(best_rf_model_f1.feature_importances_, index = X_train.columns, columns=['importance']).sort_values('importance', ascending=False)"
      ],
      "execution_count": 0,
      "outputs": [
        {
          "output_type": "execute_result",
          "data": {
            "text/html": [
              "<div>\n",
              "<style scoped>\n",
              "    .dataframe tbody tr th:only-of-type {\n",
              "        vertical-align: middle;\n",
              "    }\n",
              "\n",
              "    .dataframe tbody tr th {\n",
              "        vertical-align: top;\n",
              "    }\n",
              "\n",
              "    .dataframe thead th {\n",
              "        text-align: right;\n",
              "    }\n",
              "</style>\n",
              "<table border=\"1\" class=\"dataframe\">\n",
              "  <thead>\n",
              "    <tr style=\"text-align: right;\">\n",
              "      <th></th>\n",
              "      <th>importance</th>\n",
              "    </tr>\n",
              "  </thead>\n",
              "  <tbody>\n",
              "    <tr>\n",
              "      <th>interval_after_signup</th>\n",
              "      <td>0.398899</td>\n",
              "    </tr>\n",
              "    <tr>\n",
              "      <th>purchase_days_of_year</th>\n",
              "      <td>0.137748</td>\n",
              "    </tr>\n",
              "    <tr>\n",
              "      <th>purchase_seconds_of_day</th>\n",
              "      <td>0.079756</td>\n",
              "    </tr>\n",
              "    <tr>\n",
              "      <th>signup_seconds_of_day</th>\n",
              "      <td>0.079487</td>\n",
              "    </tr>\n",
              "    <tr>\n",
              "      <th>signup_days_of_year</th>\n",
              "      <td>0.057544</td>\n",
              "    </tr>\n",
              "    <tr>\n",
              "      <th>n_ip_shared</th>\n",
              "      <td>0.051497</td>\n",
              "    </tr>\n",
              "    <tr>\n",
              "      <th>purchase_value</th>\n",
              "      <td>0.044803</td>\n",
              "    </tr>\n",
              "    <tr>\n",
              "      <th>n_dev_shared</th>\n",
              "      <td>0.039265</td>\n",
              "    </tr>\n",
              "    <tr>\n",
              "      <th>age</th>\n",
              "      <td>0.037788</td>\n",
              "    </tr>\n",
              "    <tr>\n",
              "      <th>n_country_shared</th>\n",
              "      <td>0.027534</td>\n",
              "    </tr>\n",
              "    <tr>\n",
              "      <th>sex</th>\n",
              "      <td>0.007732</td>\n",
              "    </tr>\n",
              "    <tr>\n",
              "      <th>source_Ads</th>\n",
              "      <td>0.006072</td>\n",
              "    </tr>\n",
              "    <tr>\n",
              "      <th>browser_Chrome</th>\n",
              "      <td>0.005899</td>\n",
              "    </tr>\n",
              "    <tr>\n",
              "      <th>source_SEO</th>\n",
              "      <td>0.005817</td>\n",
              "    </tr>\n",
              "    <tr>\n",
              "      <th>browser_Safari</th>\n",
              "      <td>0.004892</td>\n",
              "    </tr>\n",
              "    <tr>\n",
              "      <th>source_Direct</th>\n",
              "      <td>0.004871</td>\n",
              "    </tr>\n",
              "    <tr>\n",
              "      <th>browser_IE</th>\n",
              "      <td>0.004848</td>\n",
              "    </tr>\n",
              "    <tr>\n",
              "      <th>browser_FireFox</th>\n",
              "      <td>0.004510</td>\n",
              "    </tr>\n",
              "    <tr>\n",
              "      <th>browser_Opera</th>\n",
              "      <td>0.001040</td>\n",
              "    </tr>\n",
              "  </tbody>\n",
              "</table>\n",
              "</div>"
            ],
            "text/plain": [
              "                         importance\n",
              "interval_after_signup      0.398899\n",
              "purchase_days_of_year      0.137748\n",
              "purchase_seconds_of_day    0.079756\n",
              "signup_seconds_of_day      0.079487\n",
              "signup_days_of_year        0.057544\n",
              "n_ip_shared                0.051497\n",
              "purchase_value             0.044803\n",
              "n_dev_shared               0.039265\n",
              "age                        0.037788\n",
              "n_country_shared           0.027534\n",
              "sex                        0.007732\n",
              "source_Ads                 0.006072\n",
              "browser_Chrome             0.005899\n",
              "source_SEO                 0.005817\n",
              "browser_Safari             0.004892\n",
              "source_Direct              0.004871\n",
              "browser_IE                 0.004848\n",
              "browser_FireFox            0.004510\n",
              "browser_Opera              0.001040"
            ]
          },
          "metadata": {
            "tags": []
          },
          "execution_count": 211
        }
      ]
    },
    {
      "cell_type": "markdown",
      "metadata": {
        "id": "VMBjORQlsGGZ",
        "colab_type": "text"
      },
      "source": [
        "##Optimizing recall_score on RF"
      ]
    },
    {
      "cell_type": "code",
      "metadata": {
        "id": "9A7_0wtfsD8d",
        "colab_type": "code",
        "outputId": "fc77f04b-137d-40bc-aec8-0bc6322d8fc2",
        "colab": {
          "base_uri": "https://localhost:8080/",
          "height": 297
        }
      },
      "source": [
        "grid_search_rf_recall = grid_search_wrapper(clf, parameters, refit_score='recall_score')"
      ],
      "execution_count": 0,
      "outputs": [
        {
          "output_type": "stream",
          "text": [
            "Best params for recall_score\n",
            "{'class_weight': {0: 1, 1: 100}, 'max_depth': 5, 'n_estimators': 150}\n",
            "\n",
            "Confusion matrix optimized for recall_score on the train data:\n",
            "        pred_0  pred_1\n",
            "true_0  105337    4235\n",
            "true_1     388     740\n",
            "\n",
            "Confusion matrix optimized for recall_score on the test data:\n",
            "        pred_0  pred_1\n",
            "true_0   27146     243\n",
            "true_1     132     155\n",
            "\troc_auc_score is: : 0.7920126890382886\n",
            "\tf1_score is: : 0.4525547445255475\n",
            "recall =  0.5400696864111498\n",
            "precision =  0.38944723618090454\n"
          ],
          "name": "stdout"
        }
      ]
    },
    {
      "cell_type": "code",
      "metadata": {
        "id": "IzvlVI_VsIpb",
        "colab_type": "code",
        "outputId": "828dc24d-9212-4692-9f60-7b7c5d7a83cf",
        "colab": {
          "base_uri": "https://localhost:8080/",
          "height": 157
        }
      },
      "source": [
        "best_RF_model_recall = grid_search_rf_recall.best_estimator_\n",
        "best_RF_model_recall"
      ],
      "execution_count": 0,
      "outputs": [
        {
          "output_type": "execute_result",
          "data": {
            "text/plain": [
              "RandomForestClassifier(bootstrap=True, ccp_alpha=0.0,\n",
              "                       class_weight={0: 1, 1: 100}, criterion='gini',\n",
              "                       max_depth=5, max_features='auto', max_leaf_nodes=None,\n",
              "                       max_samples=None, min_impurity_decrease=0.0,\n",
              "                       min_impurity_split=None, min_samples_leaf=1,\n",
              "                       min_samples_split=2, min_weight_fraction_leaf=0.0,\n",
              "                       n_estimators=150, n_jobs=None, oob_score=False,\n",
              "                       random_state=0, verbose=0, warm_start=False)"
            ]
          },
          "metadata": {
            "tags": []
          },
          "execution_count": 213
        }
      ]
    },
    {
      "cell_type": "code",
      "metadata": {
        "id": "Y7ncW6mZsKx_",
        "colab_type": "code",
        "outputId": "fd0da97d-eee5-43fc-953d-3db6e3b240c3",
        "colab": {
          "base_uri": "https://localhost:8080/",
          "height": 224
        }
      },
      "source": [
        "# predict class labels for the test set\n",
        "predictedBest_recall = best_RF_model_recall.predict(X_test)\n",
        "\n",
        "# generate class probabilities\n",
        "probsBest_recall = best_RF_model_recall.predict_proba(X_test)\n",
        "\n",
        "results_recall = pd.DataFrame(grid_search_rf_recall.cv_results_)# recall score is different from above, as above is metric on test data, this is performance on cv data\n",
        "results_sortrecall = results_recall.sort_values(by='mean_test_recall_score', ascending=False)\n",
        "results_sortrecall[['mean_test_precision_score', 'mean_test_recall_score', 'mean_test_f1_score', 'mean_train_precision_score', 'mean_train_recall_score', 'mean_train_f1_score','param_max_depth', 'param_class_weight', 'param_n_estimators']].round(3).head()"
      ],
      "execution_count": 0,
      "outputs": [
        {
          "output_type": "execute_result",
          "data": {
            "text/html": [
              "<div>\n",
              "<style scoped>\n",
              "    .dataframe tbody tr th:only-of-type {\n",
              "        vertical-align: middle;\n",
              "    }\n",
              "\n",
              "    .dataframe tbody tr th {\n",
              "        vertical-align: top;\n",
              "    }\n",
              "\n",
              "    .dataframe thead th {\n",
              "        text-align: right;\n",
              "    }\n",
              "</style>\n",
              "<table border=\"1\" class=\"dataframe\">\n",
              "  <thead>\n",
              "    <tr style=\"text-align: right;\">\n",
              "      <th></th>\n",
              "      <th>mean_test_precision_score</th>\n",
              "      <th>mean_test_recall_score</th>\n",
              "      <th>mean_test_f1_score</th>\n",
              "      <th>mean_train_precision_score</th>\n",
              "      <th>mean_train_recall_score</th>\n",
              "      <th>mean_train_f1_score</th>\n",
              "      <th>param_max_depth</th>\n",
              "      <th>param_class_weight</th>\n",
              "      <th>param_n_estimators</th>\n",
              "    </tr>\n",
              "  </thead>\n",
              "  <tbody>\n",
              "    <tr>\n",
              "      <th>15</th>\n",
              "      <td>0.158</td>\n",
              "      <td>0.635</td>\n",
              "      <td>0.253</td>\n",
              "      <td>0.163</td>\n",
              "      <td>0.656</td>\n",
              "      <td>0.262</td>\n",
              "      <td>5</td>\n",
              "      <td>{0: 1, 1: 100}</td>\n",
              "      <td>150</td>\n",
              "    </tr>\n",
              "    <tr>\n",
              "      <th>14</th>\n",
              "      <td>0.162</td>\n",
              "      <td>0.632</td>\n",
              "      <td>0.258</td>\n",
              "      <td>0.166</td>\n",
              "      <td>0.652</td>\n",
              "      <td>0.264</td>\n",
              "      <td>5</td>\n",
              "      <td>{0: 1, 1: 100}</td>\n",
              "      <td>10</td>\n",
              "    </tr>\n",
              "    <tr>\n",
              "      <th>16</th>\n",
              "      <td>0.751</td>\n",
              "      <td>0.528</td>\n",
              "      <td>0.618</td>\n",
              "      <td>0.842</td>\n",
              "      <td>0.816</td>\n",
              "      <td>0.826</td>\n",
              "      <td>15</td>\n",
              "      <td>{0: 1, 1: 100}</td>\n",
              "      <td>10</td>\n",
              "    </tr>\n",
              "    <tr>\n",
              "      <th>17</th>\n",
              "      <td>0.965</td>\n",
              "      <td>0.527</td>\n",
              "      <td>0.682</td>\n",
              "      <td>0.983</td>\n",
              "      <td>0.833</td>\n",
              "      <td>0.902</td>\n",
              "      <td>15</td>\n",
              "      <td>{0: 1, 1: 100}</td>\n",
              "      <td>150</td>\n",
              "    </tr>\n",
              "    <tr>\n",
              "      <th>1</th>\n",
              "      <td>1.000</td>\n",
              "      <td>0.527</td>\n",
              "      <td>0.690</td>\n",
              "      <td>1.000</td>\n",
              "      <td>1.000</td>\n",
              "      <td>1.000</td>\n",
              "      <td>None</td>\n",
              "      <td>{0: 1, 1: 0.2}</td>\n",
              "      <td>150</td>\n",
              "    </tr>\n",
              "  </tbody>\n",
              "</table>\n",
              "</div>"
            ],
            "text/plain": [
              "    mean_test_precision_score  ...  param_n_estimators\n",
              "15                      0.158  ...                 150\n",
              "14                      0.162  ...                  10\n",
              "16                      0.751  ...                  10\n",
              "17                      0.965  ...                 150\n",
              "1                       1.000  ...                 150\n",
              "\n",
              "[5 rows x 9 columns]"
            ]
          },
          "metadata": {
            "tags": []
          },
          "execution_count": 214
        }
      ]
    },
    {
      "cell_type": "markdown",
      "metadata": {
        "id": "LBuEbw2wJ8QR",
        "colab_type": "text"
      },
      "source": [
        "##Optimizing on recall_score on XGB"
      ]
    },
    {
      "cell_type": "code",
      "metadata": {
        "id": "T_Y51HDTJXN4",
        "colab_type": "code",
        "outputId": "4986ad04-8c5e-4e2e-9c74-ec2f2840e91c",
        "colab": {
          "base_uri": "https://localhost:8080/",
          "height": 352
        }
      },
      "source": [
        "parameters = {'max_depth': [1, 5, 10],\n",
        "              'n_estimators' :  [5, 10, 30],\n",
        "              'learning_rate' : [0.5, 0.1,0.05]\n",
        "              }\n",
        "classifier_XGB = xgb.XGBClassifier(random_state=0)\n",
        "grid_search_xgb_recall = grid_search_wrapper(classifier_XGB, parameters, refit_score='recall_score')\n"
      ],
      "execution_count": 0,
      "outputs": [
        {
          "output_type": "stream",
          "text": [
            "/usr/local/lib/python3.6/dist-packages/joblib/externals/loky/process_executor.py:706: UserWarning: A worker stopped while some jobs were given to the executor. This can be caused by a too short worker timeout or by a memory leak.\n",
            "  \"timeout or by a memory leak.\", UserWarning\n"
          ],
          "name": "stderr"
        },
        {
          "output_type": "stream",
          "text": [
            "Best params for recall_score\n",
            "{'learning_rate': 0.5, 'max_depth': 1, 'n_estimators': 5}\n",
            "\n",
            "Confusion matrix optimized for recall_score on the train data:\n",
            "        pred_0  pred_1\n",
            "true_0  109572       0\n",
            "true_1     534     594\n",
            "\n",
            "Confusion matrix optimized for recall_score on the test data:\n",
            "        pred_0  pred_1\n",
            "true_0   27389       0\n",
            "true_1     142     145\n",
            "\troc_auc_score is: : 0.7526132404181185\n",
            "\tf1_score is: : 0.6712962962962962\n",
            "recall =  0.5052264808362369\n",
            "precision =  1.0\n"
          ],
          "name": "stdout"
        }
      ]
    },
    {
      "cell_type": "markdown",
      "metadata": {
        "id": "UXvU-OxVsUs7",
        "colab_type": "text"
      },
      "source": [
        "# Finding and recommentation"
      ]
    },
    {
      "cell_type": "markdown",
      "metadata": {
        "id": "S0adWEp_-EEg",
        "colab_type": "text"
      },
      "source": [
        " What kinds of users are more likely to be classified as at risk?"
      ]
    },
    {
      "cell_type": "code",
      "metadata": {
        "id": "jL6RHnausPcH",
        "colab_type": "code",
        "outputId": "d8fd0022-816c-4b0d-a534-fbb3ea321dc7",
        "colab": {
          "base_uri": "https://localhost:8080/",
          "height": 266
        }
      },
      "source": [
        "#for task 3, based on the above var importance\n",
        "trainDF = pd.concat([X_train, y_train], axis=1)\n",
        "pd.crosstab(trainDF[\"n_dev_shared\"],trainDF[\"class\"])\n",
        "\n",
        "#Fingdings: the larger n_dev_shared, the higher rate of fraud"
      ],
      "execution_count": 0,
      "outputs": [
        {
          "output_type": "execute_result",
          "data": {
            "text/html": [
              "<div>\n",
              "<style scoped>\n",
              "    .dataframe tbody tr th:only-of-type {\n",
              "        vertical-align: middle;\n",
              "    }\n",
              "\n",
              "    .dataframe tbody tr th {\n",
              "        vertical-align: top;\n",
              "    }\n",
              "\n",
              "    .dataframe thead th {\n",
              "        text-align: right;\n",
              "    }\n",
              "</style>\n",
              "<table border=\"1\" class=\"dataframe\">\n",
              "  <thead>\n",
              "    <tr style=\"text-align: right;\">\n",
              "      <th>class</th>\n",
              "      <th>0</th>\n",
              "      <th>1</th>\n",
              "    </tr>\n",
              "    <tr>\n",
              "      <th>n_dev_shared</th>\n",
              "      <th></th>\n",
              "      <th></th>\n",
              "    </tr>\n",
              "  </thead>\n",
              "  <tbody>\n",
              "    <tr>\n",
              "      <th>0.0</th>\n",
              "      <td>104966</td>\n",
              "      <td>461</td>\n",
              "    </tr>\n",
              "    <tr>\n",
              "      <th>0.2</th>\n",
              "      <td>4403</td>\n",
              "      <td>371</td>\n",
              "    </tr>\n",
              "    <tr>\n",
              "      <th>0.4</th>\n",
              "      <td>152</td>\n",
              "      <td>172</td>\n",
              "    </tr>\n",
              "    <tr>\n",
              "      <th>0.6</th>\n",
              "      <td>37</td>\n",
              "      <td>87</td>\n",
              "    </tr>\n",
              "    <tr>\n",
              "      <th>0.8</th>\n",
              "      <td>13</td>\n",
              "      <td>32</td>\n",
              "    </tr>\n",
              "    <tr>\n",
              "      <th>1.0</th>\n",
              "      <td>1</td>\n",
              "      <td>5</td>\n",
              "    </tr>\n",
              "  </tbody>\n",
              "</table>\n",
              "</div>"
            ],
            "text/plain": [
              "class              0    1\n",
              "n_dev_shared             \n",
              "0.0           104966  461\n",
              "0.2             4403  371\n",
              "0.4              152  172\n",
              "0.6               37   87\n",
              "0.8               13   32\n",
              "1.0                1    5"
            ]
          },
          "metadata": {
            "tags": []
          },
          "execution_count": 216
        }
      ]
    },
    {
      "cell_type": "code",
      "metadata": {
        "id": "cYog2kSTsakj",
        "colab_type": "code",
        "outputId": "917be03a-ad6f-46e4-b54f-8d070b6b7721",
        "colab": {
          "base_uri": "https://localhost:8080/",
          "height": 142
        }
      },
      "source": [
        "fraud_data.groupby(\"class\")[['interval_after_signup']].mean()\n",
        "#interval_after_signup on frauds are significantly lower compared to normal cases"
      ],
      "execution_count": 0,
      "outputs": [
        {
          "output_type": "execute_result",
          "data": {
            "text/html": [
              "<div>\n",
              "<style scoped>\n",
              "    .dataframe tbody tr th:only-of-type {\n",
              "        vertical-align: middle;\n",
              "    }\n",
              "\n",
              "    .dataframe tbody tr th {\n",
              "        vertical-align: top;\n",
              "    }\n",
              "\n",
              "    .dataframe thead th {\n",
              "        text-align: right;\n",
              "    }\n",
              "</style>\n",
              "<table border=\"1\" class=\"dataframe\">\n",
              "  <thead>\n",
              "    <tr style=\"text-align: right;\">\n",
              "      <th></th>\n",
              "      <th>interval_after_signup</th>\n",
              "    </tr>\n",
              "    <tr>\n",
              "      <th>class</th>\n",
              "      <th></th>\n",
              "    </tr>\n",
              "  </thead>\n",
              "  <tbody>\n",
              "    <tr>\n",
              "      <th>0</th>\n",
              "      <td>5.191179e+06</td>\n",
              "    </tr>\n",
              "    <tr>\n",
              "      <th>1</th>\n",
              "      <td>2.570226e+06</td>\n",
              "    </tr>\n",
              "  </tbody>\n",
              "</table>\n",
              "</div>"
            ],
            "text/plain": [
              "       interval_after_signup\n",
              "class                       \n",
              "0               5.191179e+06\n",
              "1               2.570226e+06"
            ]
          },
          "metadata": {
            "tags": []
          },
          "execution_count": 217
        }
      ]
    },
    {
      "cell_type": "code",
      "metadata": {
        "id": "qtX09Ptpujgi",
        "colab_type": "code",
        "outputId": "6a2283e6-9731-4b00-b8d2-4df401a1ab7f",
        "colab": {
          "base_uri": "https://localhost:8080/",
          "height": 142
        }
      },
      "source": [
        "fraud_data.groupby(\"class\")[['interval_after_signup']].median()\n",
        "#more than half of fraud happened 1s after signed up"
      ],
      "execution_count": 0,
      "outputs": [
        {
          "output_type": "execute_result",
          "data": {
            "text/html": [
              "<div>\n",
              "<style scoped>\n",
              "    .dataframe tbody tr th:only-of-type {\n",
              "        vertical-align: middle;\n",
              "    }\n",
              "\n",
              "    .dataframe tbody tr th {\n",
              "        vertical-align: top;\n",
              "    }\n",
              "\n",
              "    .dataframe thead th {\n",
              "        text-align: right;\n",
              "    }\n",
              "</style>\n",
              "<table border=\"1\" class=\"dataframe\">\n",
              "  <thead>\n",
              "    <tr style=\"text-align: right;\">\n",
              "      <th></th>\n",
              "      <th>interval_after_signup</th>\n",
              "    </tr>\n",
              "    <tr>\n",
              "      <th>class</th>\n",
              "      <th></th>\n",
              "    </tr>\n",
              "  </thead>\n",
              "  <tbody>\n",
              "    <tr>\n",
              "      <th>0</th>\n",
              "      <td>5194911.0</td>\n",
              "    </tr>\n",
              "    <tr>\n",
              "      <th>1</th>\n",
              "      <td>1.0</td>\n",
              "    </tr>\n",
              "  </tbody>\n",
              "</table>\n",
              "</div>"
            ],
            "text/plain": [
              "       interval_after_signup\n",
              "class                       \n",
              "0                  5194911.0\n",
              "1                        1.0"
            ]
          },
          "metadata": {
            "tags": []
          },
          "execution_count": 218
        }
      ]
    },
    {
      "cell_type": "code",
      "metadata": {
        "id": "5MI958mF2e5R",
        "colab_type": "code",
        "outputId": "49d947e8-f9ff-42fd-eaf3-3664ebef93d8",
        "colab": {
          "base_uri": "https://localhost:8080/",
          "height": 470
        }
      },
      "source": [
        "fraud_data[fraud_data['class'] == 1].groupby(\"interval_after_signup\").count()\n",
        "#Findings: interval_after_signup of more than half of fraud is 1 second, means happend 1 second after signed up!"
      ],
      "execution_count": 0,
      "outputs": [
        {
          "output_type": "execute_result",
          "data": {
            "text/html": [
              "<div>\n",
              "<style scoped>\n",
              "    .dataframe tbody tr th:only-of-type {\n",
              "        vertical-align: middle;\n",
              "    }\n",
              "\n",
              "    .dataframe tbody tr th {\n",
              "        vertical-align: top;\n",
              "    }\n",
              "\n",
              "    .dataframe thead th {\n",
              "        text-align: right;\n",
              "    }\n",
              "</style>\n",
              "<table border=\"1\" class=\"dataframe\">\n",
              "  <thead>\n",
              "    <tr style=\"text-align: right;\">\n",
              "      <th></th>\n",
              "      <th>purchase_value</th>\n",
              "      <th>device_id</th>\n",
              "      <th>source</th>\n",
              "      <th>browser</th>\n",
              "      <th>sex</th>\n",
              "      <th>age</th>\n",
              "      <th>ip_address</th>\n",
              "      <th>class</th>\n",
              "      <th>country</th>\n",
              "      <th>signup_days_of_year</th>\n",
              "      <th>signup_seconds_of_day</th>\n",
              "      <th>purchase_days_of_year</th>\n",
              "      <th>purchase_seconds_of_day</th>\n",
              "    </tr>\n",
              "    <tr>\n",
              "      <th>interval_after_signup</th>\n",
              "      <th></th>\n",
              "      <th></th>\n",
              "      <th></th>\n",
              "      <th></th>\n",
              "      <th></th>\n",
              "      <th></th>\n",
              "      <th></th>\n",
              "      <th></th>\n",
              "      <th></th>\n",
              "      <th></th>\n",
              "      <th></th>\n",
              "      <th></th>\n",
              "      <th></th>\n",
              "    </tr>\n",
              "  </thead>\n",
              "  <tbody>\n",
              "    <tr>\n",
              "      <th>1.0</th>\n",
              "      <td>739</td>\n",
              "      <td>739</td>\n",
              "      <td>739</td>\n",
              "      <td>739</td>\n",
              "      <td>739</td>\n",
              "      <td>739</td>\n",
              "      <td>739</td>\n",
              "      <td>739</td>\n",
              "      <td>739</td>\n",
              "      <td>739</td>\n",
              "      <td>739</td>\n",
              "      <td>739</td>\n",
              "      <td>739</td>\n",
              "    </tr>\n",
              "    <tr>\n",
              "      <th>54963.0</th>\n",
              "      <td>1</td>\n",
              "      <td>1</td>\n",
              "      <td>1</td>\n",
              "      <td>1</td>\n",
              "      <td>1</td>\n",
              "      <td>1</td>\n",
              "      <td>1</td>\n",
              "      <td>1</td>\n",
              "      <td>1</td>\n",
              "      <td>1</td>\n",
              "      <td>1</td>\n",
              "      <td>1</td>\n",
              "      <td>1</td>\n",
              "    </tr>\n",
              "    <tr>\n",
              "      <th>87771.0</th>\n",
              "      <td>1</td>\n",
              "      <td>1</td>\n",
              "      <td>1</td>\n",
              "      <td>1</td>\n",
              "      <td>1</td>\n",
              "      <td>1</td>\n",
              "      <td>1</td>\n",
              "      <td>1</td>\n",
              "      <td>1</td>\n",
              "      <td>1</td>\n",
              "      <td>1</td>\n",
              "      <td>1</td>\n",
              "      <td>1</td>\n",
              "    </tr>\n",
              "    <tr>\n",
              "      <th>113412.0</th>\n",
              "      <td>1</td>\n",
              "      <td>1</td>\n",
              "      <td>1</td>\n",
              "      <td>1</td>\n",
              "      <td>1</td>\n",
              "      <td>1</td>\n",
              "      <td>1</td>\n",
              "      <td>1</td>\n",
              "      <td>1</td>\n",
              "      <td>1</td>\n",
              "      <td>1</td>\n",
              "      <td>1</td>\n",
              "      <td>1</td>\n",
              "    </tr>\n",
              "    <tr>\n",
              "      <th>121448.0</th>\n",
              "      <td>1</td>\n",
              "      <td>1</td>\n",
              "      <td>1</td>\n",
              "      <td>1</td>\n",
              "      <td>1</td>\n",
              "      <td>1</td>\n",
              "      <td>1</td>\n",
              "      <td>1</td>\n",
              "      <td>1</td>\n",
              "      <td>1</td>\n",
              "      <td>1</td>\n",
              "      <td>1</td>\n",
              "      <td>1</td>\n",
              "    </tr>\n",
              "    <tr>\n",
              "      <th>...</th>\n",
              "      <td>...</td>\n",
              "      <td>...</td>\n",
              "      <td>...</td>\n",
              "      <td>...</td>\n",
              "      <td>...</td>\n",
              "      <td>...</td>\n",
              "      <td>...</td>\n",
              "      <td>...</td>\n",
              "      <td>...</td>\n",
              "      <td>...</td>\n",
              "      <td>...</td>\n",
              "      <td>...</td>\n",
              "      <td>...</td>\n",
              "    </tr>\n",
              "    <tr>\n",
              "      <th>10292598.0</th>\n",
              "      <td>1</td>\n",
              "      <td>1</td>\n",
              "      <td>1</td>\n",
              "      <td>1</td>\n",
              "      <td>1</td>\n",
              "      <td>1</td>\n",
              "      <td>1</td>\n",
              "      <td>1</td>\n",
              "      <td>1</td>\n",
              "      <td>1</td>\n",
              "      <td>1</td>\n",
              "      <td>1</td>\n",
              "      <td>1</td>\n",
              "    </tr>\n",
              "    <tr>\n",
              "      <th>10295716.0</th>\n",
              "      <td>1</td>\n",
              "      <td>1</td>\n",
              "      <td>1</td>\n",
              "      <td>1</td>\n",
              "      <td>1</td>\n",
              "      <td>1</td>\n",
              "      <td>1</td>\n",
              "      <td>1</td>\n",
              "      <td>1</td>\n",
              "      <td>1</td>\n",
              "      <td>1</td>\n",
              "      <td>1</td>\n",
              "      <td>1</td>\n",
              "    </tr>\n",
              "    <tr>\n",
              "      <th>10312138.0</th>\n",
              "      <td>1</td>\n",
              "      <td>1</td>\n",
              "      <td>1</td>\n",
              "      <td>1</td>\n",
              "      <td>1</td>\n",
              "      <td>1</td>\n",
              "      <td>1</td>\n",
              "      <td>1</td>\n",
              "      <td>1</td>\n",
              "      <td>1</td>\n",
              "      <td>1</td>\n",
              "      <td>1</td>\n",
              "      <td>1</td>\n",
              "    </tr>\n",
              "    <tr>\n",
              "      <th>10350095.0</th>\n",
              "      <td>1</td>\n",
              "      <td>1</td>\n",
              "      <td>1</td>\n",
              "      <td>1</td>\n",
              "      <td>1</td>\n",
              "      <td>1</td>\n",
              "      <td>1</td>\n",
              "      <td>1</td>\n",
              "      <td>1</td>\n",
              "      <td>1</td>\n",
              "      <td>1</td>\n",
              "      <td>1</td>\n",
              "      <td>1</td>\n",
              "    </tr>\n",
              "    <tr>\n",
              "      <th>10354001.0</th>\n",
              "      <td>1</td>\n",
              "      <td>1</td>\n",
              "      <td>1</td>\n",
              "      <td>1</td>\n",
              "      <td>1</td>\n",
              "      <td>1</td>\n",
              "      <td>1</td>\n",
              "      <td>1</td>\n",
              "      <td>1</td>\n",
              "      <td>1</td>\n",
              "      <td>1</td>\n",
              "      <td>1</td>\n",
              "      <td>1</td>\n",
              "    </tr>\n",
              "  </tbody>\n",
              "</table>\n",
              "<p>677 rows × 13 columns</p>\n",
              "</div>"
            ],
            "text/plain": [
              "                       purchase_value  ...  purchase_seconds_of_day\n",
              "interval_after_signup                  ...                         \n",
              "1.0                               739  ...                      739\n",
              "54963.0                             1  ...                        1\n",
              "87771.0                             1  ...                        1\n",
              "113412.0                            1  ...                        1\n",
              "121448.0                            1  ...                        1\n",
              "...                               ...  ...                      ...\n",
              "10292598.0                          1  ...                        1\n",
              "10295716.0                          1  ...                        1\n",
              "10312138.0                          1  ...                        1\n",
              "10350095.0                          1  ...                        1\n",
              "10354001.0                          1  ...                        1\n",
              "\n",
              "[677 rows x 13 columns]"
            ]
          },
          "metadata": {
            "tags": []
          },
          "execution_count": 219
        }
      ]
    },
    {
      "cell_type": "markdown",
      "metadata": {
        "id": "OJvfdvbi-JlZ",
        "colab_type": "text"
      },
      "source": [
        "How to use the predictions from the model?"
      ]
    },
    {
      "cell_type": "code",
      "metadata": {
        "id": "EIv6OBKkuny9",
        "colab_type": "code",
        "outputId": "d4376f53-1b19-47bc-fc1c-5fbf5ce90938",
        "colab": {
          "base_uri": "https://localhost:8080/",
          "height": 157
        }
      },
      "source": [
        "#probsBest_recall: class probabilities from the best RF model with optimized recall\n",
        "t = (10 * probsBest_recall[:, 1]).astype(int)  # 10* for better display\n",
        "unique, counts = np.unique(t, return_counts=True)\n",
        "print(np.asarray((unique, counts)).T)\n",
        "\n",
        "#Recommendation\n",
        "      #green: 1 - 3 pass\n",
        "      #grey: 4-7 need manual investigation\n",
        "      #red: 8,9 decline"
      ],
      "execution_count": 0,
      "outputs": [
        {
          "output_type": "stream",
          "text": [
            "[[    2 24233]\n",
            " [    3  2947]\n",
            " [    4    98]\n",
            " [    5   187]\n",
            " [    6    66]\n",
            " [    7     1]\n",
            " [    8    17]\n",
            " [    9   127]]\n"
          ],
          "name": "stdout"
        }
      ]
    }
  ]
}